{
 "cells": [
  {
   "cell_type": "markdown",
   "metadata": {},
   "source": [
    "### Updates\n",
    "11/1/2020\n",
    "- added code so users can choose 'EU' as a place\n",
    "- in progress - adding detailed comments to make code more legible"
   ]
  },
  {
   "cell_type": "code",
   "execution_count": 1,
   "metadata": {},
   "outputs": [],
   "source": [
    "import pandas as pd\n",
    "import numpy as np\n",
    "import matplotlib.pyplot as plt"
   ]
  },
  {
   "cell_type": "markdown",
   "metadata": {},
   "source": [
    "The data all comes from the Github repository maintained by Johns Hopkins, https://github.com/CSSEGISandData"
   ]
  },
  {
   "cell_type": "code",
   "execution_count": 2,
   "metadata": {},
   "outputs": [],
   "source": [
    "# get the data from the Github repository\n",
    "filepathA = \"https://raw.githubusercontent.com/CSSEGISandData/COVID-19/master/csse_covid_19_data/csse_covid_19_time_series/time_series_covid19_confirmed_US.csv\"\n",
    "filepathB = \"https://raw.githubusercontent.com/CSSEGISandData/COVID-19/master/csse_covid_19_data/csse_covid_19_time_series/time_series_covid19_deaths_US.csv\"\n",
    "filepathC = \"https://raw.githubusercontent.com/CSSEGISandData/COVID-19/master/csse_covid_19_data/csse_covid_19_time_series/time_series_covid19_confirmed_global.csv\"\n",
    "filepathD = \"https://raw.githubusercontent.com/CSSEGISandData/COVID-19/master/csse_covid_19_data/csse_covid_19_time_series/time_series_covid19_deaths_global.csv\"\n",
    "filepathF = \"https://raw.githubusercontent.com/umpirsky/country-list/master/data/en_US/country.csv\"\n",
    "filepathG = \"https://raw.githubusercontent.com/benhowe75/covid_082020/Latest/country_codes_eu.csv\"\n",
    "filepathH = \"https://raw.githubusercontent.com/benhowe75/covid_082020/Latest/state_table.csv\""
   ]
  },
  {
   "cell_type": "markdown",
   "metadata": {},
   "source": [
    "This block gets lists of states and countries for checking entries later."
   ]
  },
  {
   "cell_type": "code",
   "execution_count": 3,
   "metadata": {},
   "outputs": [],
   "source": [
    "states = pd.read_csv(filepathA)\n",
    "statelist = states.loc[:,\"Province_State\"].unique()         # get list of all states for reference\n",
    "\n",
    "countries = pd.read_csv(filepathC)\n",
    "countrylist = countries.loc[:,\"Country/Region\"].unique()    # get list of all countries for reference\n",
    "\n",
    "eu = pd.read_csv(filepathG)\n",
    "eulist = eu.loc[:,'Country'].unique()                       # get list of EU countries for reference\n",
    "# eulist = eulist[eulist != ['Albania','Montenegro','Serbia','Turkey']]                 "
   ]
  },
  {
   "cell_type": "markdown",
   "metadata": {},
   "source": [
    "## Definitions"
   ]
  },
  {
   "cell_type": "markdown",
   "metadata": {},
   "source": [
    "There are two primary categories, either conformed cases or deaths. Since it is unusual and unwise to compare them, users can choose on eor the other."
   ]
  },
  {
   "cell_type": "code",
   "execution_count": 4,
   "metadata": {},
   "outputs": [],
   "source": [
    "def get_choice1():\n",
    "    while True:\n",
    "        try:\n",
    "            tipar3 = input(\"Do you want cases or deaths? Enter '1' for cases or '2' for deaths. \")\n",
    "            tipar3 = int(tipar3)\n",
    "            if tipar3 == 1 or tipar3 == 2:\n",
    "                break\n",
    "            else:\n",
    "                print(\"choose only 1 for cases or 2 for deaths.\")\n",
    "        except ValueError as e:\n",
    "            print(\"Error\")\n",
    "    return(tipar3)"
   ]
  },
  {
   "cell_type": "markdown",
   "metadata": {},
   "source": [
    "This function makes sure that user choices are countries and states in the database. I don't know what was so special about this block but it took me a long time to get it to respond correctly for names not in either list."
   ]
  },
  {
   "cell_type": "markdown",
   "metadata": {},
   "source": [
    "This name block continues to give me problems. I fixed it so that US which gets changed to 'Us' is correctly read as 'US'. There is still the isuue of Georgia being both a state and a country. There are others, I'm certain, that use non-standard latin characters, things like é, œ, or ñ. I think the best way to handle these is to keep track of the exceptions and build a dictionary for those cases."
   ]
  },
  {
   "cell_type": "code",
   "execution_count": 5,
   "metadata": {},
   "outputs": [],
   "source": [
    "except_dict ={'Us':'US'}"
   ]
  },
  {
   "cell_type": "code",
   "execution_count": 6,
   "metadata": {},
   "outputs": [],
   "source": [
    "def check_name(b):\n",
    "    j = 0\n",
    "    while j < b:\n",
    "        try:\n",
    "            string = input(\"What's the place?\").strip()\n",
    "            string =' '.join(w.capitalize() for w in string.split())\n",
    "            if string == 'Us':\n",
    "                string = 'US'\n",
    "                break              \n",
    "            if string == 'Eu':\n",
    "                string = 'EU'\n",
    "                break                \n",
    "            elif string in statelist or string in countrylist:\n",
    "                j += 1\n",
    "                break\n",
    "            else:\n",
    "                print(\"Pick a better location.\")\n",
    "        except Exception as e:\n",
    "            print(\"Error\")\n",
    "    return(string)"
   ]
  },
  {
   "cell_type": "markdown",
   "metadata": {},
   "source": [
    "I had to add this function as an afterthought to figure out which database to look in for each place."
   ]
  },
  {
   "cell_type": "code",
   "execution_count": 7,
   "metadata": {},
   "outputs": [],
   "source": [
    "def get_choice2(name):\n",
    "    while True:\n",
    "        try:\n",
    "            if name in statelist:\n",
    "                choice2 = 2             # assign 2 if place is a US state       \n",
    "            elif name in countrylist:\n",
    "                choice2 = 1             # assign 1 if place is a country\n",
    "            elif name == 'EU':\n",
    "                choice2 = 1             # assign 2 if place is EU\n",
    "            else:\n",
    "                \"Something went wrong.\"\n",
    "            break\n",
    "        except ValueError as e:\n",
    "            print(\"Error\")\n",
    "    return(choice2)"
   ]
  },
  {
   "cell_type": "markdown",
   "metadata": {},
   "source": [
    "This function just gets the right filepath for the given attributes."
   ]
  },
  {
   "cell_type": "code",
   "execution_count": 8,
   "metadata": {},
   "outputs": [],
   "source": [
    "def get_data(pair): # order of (x,y) is (confirmed/deaths, country/state)\n",
    "    if pair == (1,1):\n",
    "        dtable1 = pd.read_csv(filepathC) # confirmed global\n",
    "    elif pair == (1,2):\n",
    "        dtable1 = pd.read_csv(filepathA) # confirmed US\n",
    "    elif pair == (2,1):\n",
    "        dtable1 = pd.read_csv(filepathD) # deaths global\n",
    "    else:\n",
    "        dtable1 = pd.read_csv(filepathB) # deaths US\n",
    "    return(dtable1)"
   ]
  },
  {
   "cell_type": "markdown",
   "metadata": {},
   "source": [
    "This function actually retrieves the specific subset of data for each state. Notice that the databases for deaths and confirmed cases are slightly different, deaths has one more leading column. Why?"
   ]
  },
  {
   "cell_type": "code",
   "execution_count": 9,
   "metadata": {},
   "outputs": [],
   "source": [
    "def get_state_data(string, dtable, int):\n",
    "    dtable.rename(columns={\"Province_State\":\"State\"}, inplace = True)\n",
    "    #place = string.strip()\n",
    "    place = str(string)\n",
    "    dtable2 = dtable[dtable.loc[:,'State'] == string]\n",
    "    if int == 1:\n",
    "        dtable2 = dtable2.iloc[:,11:] # for cases\n",
    "    else:\n",
    "        dtable2 = dtable2.iloc[:,12:] # for deaths\n",
    "    return(dtable2)"
   ]
  },
  {
   "cell_type": "markdown",
   "metadata": {},
   "source": [
    "Same as one above, except for countries."
   ]
  },
  {
   "cell_type": "code",
   "execution_count": 10,
   "metadata": {},
   "outputs": [],
   "source": [
    "def get_country_data(string, dtable):                          # takes a place as a string and a dataframe\n",
    "    place = string.strip()                                     # remove blank spaces around place name\n",
    "    dtable2 = dtable[dtable.loc[:,'Country/Region'] == place]  # get the correct row of data from table\n",
    "    dtable2 = dtable2.iloc[:,4:]                               # remove leading columns of trivia\n",
    "    return(dtable2)"
   ]
  },
  {
   "cell_type": "code",
   "execution_count": 11,
   "metadata": {},
   "outputs": [],
   "source": [
    "def get_eu():\n",
    "    eudf = pd.DataFrame()\n",
    "    thepath = filepathC if a == 1 else filepathD\n",
    "\n",
    "    thedf = pd.read_csv(thepath)\n",
    "    for country in eulist:\n",
    "        countrydf = thedf.loc[thedf['Country/Region'] == country]\n",
    "        countrydf = countrydf.iloc[:,4:]\n",
    "        countrydf.loc[country,:] = countrydf.sum(axis = 0)\n",
    "        countrydf = countrydf.iloc[-1,:]   \n",
    "        eudf = pd.concat([eudf,countrydf], axis = 1)\n",
    "    eudf = eudf.transpose()\n",
    "    eutotal = eudf.sum(axis=0)\n",
    "    eutotal = pd.DataFrame(eutotal, columns = ['EU'])\n",
    "\n",
    "    return(eutotal)"
   ]
  },
  {
   "cell_type": "markdown",
   "metadata": {},
   "source": [
    "### This is the first time the user has to input anything"
   ]
  },
  {
   "cell_type": "code",
   "execution_count": 12,
   "metadata": {},
   "outputs": [
    {
     "name": "stdout",
     "output_type": "stream",
     "text": [
      "Do you want cases or deaths? Enter '1' for cases or '2' for deaths. 2\n"
     ]
    }
   ],
   "source": [
    "a = get_choice1()                  # get cases or deaths"
   ]
  },
  {
   "cell_type": "code",
   "execution_count": 13,
   "metadata": {},
   "outputs": [
    {
     "name": "stdout",
     "output_type": "stream",
     "text": [
      "Pick the number of places you want. 2\n",
      "What's the place?eu\n",
      "What's the place?us\n"
     ]
    }
   ],
   "source": [
    "clist = []                                                     # get the list of countries\n",
    "while True:\n",
    "    try:\n",
    "        b = input(\"Pick the number of places you want. \")\n",
    "        b = int(b)\n",
    "        i = 0\n",
    "        if b > 0 and b < 6:\n",
    "            while i < b:\n",
    "                place = check_name(b)\n",
    "                clist.append(place)\n",
    "                i += 1\n",
    "                continue\n",
    "            break\n",
    "        elif b < 1:\n",
    "            print(\"Choose a positive number.\")            \n",
    "        elif b > 5:\n",
    "            print(b, \" is too many for a good comparison.\")                   \n",
    "    except ValueError as e:\n",
    "        print(\"Error\")"
   ]
  },
  {
   "cell_type": "markdown",
   "metadata": {},
   "source": [
    "This block sums the values for each place and combines it into one dataframe."
   ]
  },
  {
   "cell_type": "code",
   "execution_count": 14,
   "metadata": {},
   "outputs": [
    {
     "name": "stdout",
     "output_type": "stream",
     "text": [
      "          EU   US\n",
      "1/22/20  0.0  0.0\n",
      "1/23/20  0.0  0.0\n",
      "1/24/20  0.0  0.0\n",
      "1/25/20  0.0  0.0\n",
      "1/26/20  0.0  0.0\n"
     ]
    }
   ],
   "source": [
    "combined = pd.DataFrame()                           # create empty dataframe to hold combined data for all places\n",
    "for item in clist:                                  # iterate over strings in clist\n",
    "    d = item                                        # d = place name\n",
    "    b = get_choice2(d)                              # b = 1 is country, 2 is state\n",
    "    c = get_data((a,b))                             # a = 1 is cases, 2 is deaths\n",
    "    \n",
    "    if item == 'EU':                                # if one of the names is EU\n",
    "        db1 = get_eu()                              # run the get_eu fucntion\n",
    "    else:\n",
    "        if b == 1:                                  # otherwise for country do these\n",
    "            db1 = get_country_data(d,c)             # call get_country function for that list item\n",
    "            db1.loc[d,:] = db1.sum(axis = 0)        # sum the values for each date\n",
    "            db1 = db1.iloc[-1,:]                    # just keep the summed row\n",
    "        else:\n",
    "            db1 = get_state_data(d,c,a)             # else for state do this\n",
    "            db1.loc[d,:] = db1.sum(axis = 0)        # sum values for each date\n",
    "            db1 = db1.iloc[-1,:]                    # keep only total row\n",
    "    \n",
    "    combined = pd.concat([combined,db1], axis = 1)  # add the latest df to the combined df\n",
    "\n",
    "print(combined.head())                              # display the first 5 rows of the combined df"
   ]
  },
  {
   "cell_type": "markdown",
   "metadata": {},
   "source": [
    "This is a special functiononly for getting NY state data so I can subtract it from total US for visualizing purposes for a look at the rest of the United States."
   ]
  },
  {
   "cell_type": "code",
   "execution_count": 15,
   "metadata": {},
   "outputs": [],
   "source": [
    "def get_ny():                                        # function that just gets NY\n",
    "    temp_df = get_data((a,2))                        # parameter a is 1-cases or 2-deaths and 2 is for US state\n",
    "    temp2_df = get_state_data('New York',temp_df,a)  # run the get_state function\n",
    "    temp2_df.loc[d,:] = temp2_df.sum(axis = 0)       # perform the usual summation\n",
    "    temp2_df = temp2_df.iloc[-1,:]                   # remove all but the last row\n",
    "    \n",
    "    return(temp2_df)"
   ]
  },
  {
   "cell_type": "code",
   "execution_count": 16,
   "metadata": {},
   "outputs": [],
   "source": [
    "def get_uk():                                               # function just to get UK data\n",
    "    temp_df = get_data((a,1))                               # parameter a is 1-cases or 2-deaths and 1 is for country\n",
    "    temp2_df = get_country_data('United Kingdom',temp_df)   # run get_country function\n",
    "    temp2_df.loc[d,:] = temp2_df.sum(axis = 0)              # sum the columns\n",
    "    temp2_df = temp2_df.iloc[-1,:]                          # drop all but last row\n",
    "    \n",
    "    return(temp2_df)"
   ]
  },
  {
   "cell_type": "markdown",
   "metadata": {},
   "source": [
    "## Now, we can generate rolling averages"
   ]
  },
  {
   "cell_type": "markdown",
   "metadata": {},
   "source": [
    "These next two blocks I recycled from an earlier program. No sense it reinventing the whell, right?"
   ]
  },
  {
   "cell_type": "code",
   "execution_count": 17,
   "metadata": {},
   "outputs": [],
   "source": [
    "N = len(combined)"
   ]
  },
  {
   "cell_type": "code",
   "execution_count": 18,
   "metadata": {},
   "outputs": [],
   "source": [
    "def daily(series):\n",
    "    daily = np.zeros(N)\n",
    "    for i in range(N-1):\n",
    "        daily[i+1] = round(series.iloc[i+1] - series.iloc[i],2)\n",
    "    return(daily)"
   ]
  },
  {
   "cell_type": "markdown",
   "metadata": {},
   "source": [
    "The function seven_day is replaced by seven_day_delta"
   ]
  },
  {
   "cell_type": "code",
   "execution_count": 19,
   "metadata": {},
   "outputs": [],
   "source": [
    "def seven_day_delta(series):\n",
    "    j = 6\n",
    "    seven_day = np.zeros(N)\n",
    "    seven_day_delta = np.zeros(N)\n",
    "    for i in range(N-6):       \n",
    "        seven_day[i+6] = round((series.iloc[i]+series.iloc[i+1]+series.iloc[i+2]+series.iloc[i+3]+\n",
    "                          series.iloc[i+4]+series.iloc[i+5]+series.iloc[i+6])/7,2)\n",
    "        seven_day_delta[i+6] = seven_day[i+6]-seven_day[i+5]\n",
    "    return(seven_day_delta)"
   ]
  },
  {
   "cell_type": "markdown",
   "metadata": {},
   "source": [
    "These next two blocks get a place's two letter code for displaying better in tables and plots. \n",
    "Note: There are two Georgias - one country, one US state. Are there others?"
   ]
  },
  {
   "cell_type": "code",
   "execution_count": 20,
   "metadata": {},
   "outputs": [],
   "source": [
    "countryabb = pd.read_csv(filepathF)\n",
    "stateabb = pd.read_csv(filepathH)"
   ]
  },
  {
   "cell_type": "code",
   "execution_count": 21,
   "metadata": {},
   "outputs": [],
   "source": [
    "def get_abbrev2(string):\n",
    "    try:\n",
    "        if string in countryabb.values:\n",
    "            abbv = countryabb.loc[countryabb['value'] == string,'id'].iloc[0]\n",
    "        elif string in stateabb.values:\n",
    "            abbv = stateabb.loc[stateabb['name'] == string,'abbreviation'].iloc[0]\n",
    "        elif string == 'EU':\n",
    "            abbv = 'EU'\n",
    "        else:\n",
    "            abbv = 'XX'\n",
    "    except IndexError as e:\n",
    "        abbv = string\n",
    "    return(abbv)"
   ]
  },
  {
   "cell_type": "markdown",
   "metadata": {},
   "source": [
    "Block to optionally remove counts for NY state from US data."
   ]
  },
  {
   "cell_type": "code",
   "execution_count": 22,
   "metadata": {},
   "outputs": [
    {
     "name": "stdout",
     "output_type": "stream",
     "text": [
      "Include NY? Press Y/N.y\n"
     ]
    }
   ],
   "source": [
    "def us_minus_ny():\n",
    "    ny1 = get_ny()                                     # call the get_ny function\n",
    "    us1 = combined['US']                               # access the column for US data\n",
    "    minus = us1 - ny1                                  # new column = US values minus NY values\n",
    "    \n",
    "    combined['US'] = minus                             # replace the old values with the new ones\n",
    "\n",
    "inpy = 90                                              # initialize the variable 'inpy' (I'm not certain this is needed)\n",
    "if 'US' in combined.columns:                           # look for a column named 'US' in combined df\n",
    "    codes = [78,110]                                   # list of ASCII values to check for 78='N' and 110='n'\n",
    "    while True:\n",
    "        try:\n",
    "            inpy = input(\"Include NY? Press Y/N.\")     # get user input\n",
    "            inpy = ord(inpy)                           # convert character input to integer\n",
    "            if inpy in codes:                          # look for integer in codes list\n",
    "                minus_df = us_minus_ny()               # if it's there run the minus_ny function\n",
    "            else:\n",
    "                pass                                   # if not, Pass\n",
    "            break\n",
    "        except ValueError as e:\n",
    "            print(\"Error\")  "
   ]
  },
  {
   "cell_type": "code",
   "execution_count": 23,
   "metadata": {},
   "outputs": [
    {
     "name": "stdout",
     "output_type": "stream",
     "text": [
      "Include UK? Press Y/N.y\n"
     ]
    }
   ],
   "source": [
    "def us_minus_uk():\n",
    "    uk1 = get_uk()                                  # call the get_uk function returns a df\n",
    "    eu1 = combined['EU']                            # access just the column for EU totals\n",
    "    minus = eu1 - uk1                               # subtract the UK values from EU totals\n",
    "    \n",
    "    combined['EU'] = minus                          # replace the old EU totals with the new values less the UK data\n",
    "\n",
    "inpy = 90                                           # initialize variable 'inpy' with value 90 (letter Z)\n",
    "if 'EU' in combined.columns:                        # look for column labelled 'EU'\n",
    "    codes = [78,110]                                # 78 and 110 are 'N' and 'n'\n",
    "    while True:                                     \n",
    "        try:\n",
    "            inpy = input(\"Include UK? Press Y/N.\")  # get user input here, this should only happen if EU is in combined\n",
    "            inpy = ord(inpy)                        # convert character input to ASCII integer\n",
    "            if inpy in codes:                       # look for the input in the codes\n",
    "                minus_df = us_minus_uk()            # if input matches 'N' or 'n' call minus_uk fucntion\n",
    "            else:\n",
    "                pass                                # if input doesn't match then Pass\n",
    "            break                                   # leave the loop\n",
    "        except ValueError as e:                     # obligatory error message required to make loop run\n",
    "            print(\"Error\")  "
   ]
  },
  {
   "cell_type": "markdown",
   "metadata": {},
   "source": [
    "This cell calls the two functions for daily and 7-day averages and adds them to main dataframe."
   ]
  },
  {
   "cell_type": "code",
   "execution_count": 24,
   "metadata": {},
   "outputs": [],
   "source": [
    "N = len(combined)\n",
    "step = 1\n",
    "for column in combined:\n",
    "    acol = combined.loc[:,column]\n",
    "    acol1 = daily(acol)\n",
    "    acol7 = seven_day_delta(acol)\n",
    "    \n",
    "    abb = get_abbrev2(column)\n",
    "    \n",
    "    combined.insert(step,\"Daily %s\" %abb, acol1)\n",
    "    combined.insert(step+1,\"7-day %s\" %abb ,acol7)\n",
    "    step += 3"
   ]
  },
  {
   "cell_type": "code",
   "execution_count": 25,
   "metadata": {},
   "outputs": [
    {
     "name": "stdout",
     "output_type": "stream",
     "text": [
      "                EU  Daily EU  7-day EU        US  Daily US  7-day US\n",
      "11/6/20   250196.0    3603.0   2795.57  236281.0    1154.0    910.43\n",
      "11/7/20   252719.0    2523.0   2888.29  237317.0    1036.0    928.57\n",
      "11/8/20   254486.0    1767.0   2944.71  237779.0     462.0    937.57\n",
      "11/9/20   257307.0    2821.0   3044.00  238256.0     477.0    934.57\n",
      "11/10/20  260474.0    3167.0   3111.00  239671.0    1415.0    974.43\n"
     ]
    }
   ],
   "source": [
    "print(combined.tail())"
   ]
  },
  {
   "cell_type": "code",
   "execution_count": 26,
   "metadata": {},
   "outputs": [
    {
     "name": "stdout",
     "output_type": "stream",
     "text": [
      "EU          260474.00\n",
      "Daily EU      5122.00\n",
      "7-day EU      4180.14\n",
      "US          239671.00\n",
      "Daily US      2609.00\n",
      "7-day US      2240.71\n",
      "dtype: float64\n"
     ]
    }
   ],
   "source": [
    "print(combined.max())"
   ]
  },
  {
   "cell_type": "markdown",
   "metadata": {},
   "source": [
    "## Population and per capita data"
   ]
  },
  {
   "cell_type": "markdown",
   "metadata": {},
   "source": [
    "Use the population data to compute per capita cases (cases per thousand people)"
   ]
  },
  {
   "cell_type": "code",
   "execution_count": 27,
   "metadata": {},
   "outputs": [],
   "source": [
    "filepathM = \"https://raw.githubusercontent.com/benhowe75/covid_082020/master/country_populations_2019.csv\"\n",
    "filepathN = \"https://raw.githubusercontent.com/benhowe75/covid_082020/master/state_populations_2019.csv\"\n",
    "countrypop = pd.read_csv(filepathM)\n",
    "statepop = pd.read_csv(filepathN)"
   ]
  },
  {
   "cell_type": "markdown",
   "metadata": {},
   "source": [
    "This is my dictionary so the country names from different databases can match up."
   ]
  },
  {
   "cell_type": "code",
   "execution_count": 28,
   "metadata": {},
   "outputs": [],
   "source": [
    "rdict ={'US':'United States', 'Russia':'Russian Federation'}"
   ]
  },
  {
   "cell_type": "code",
   "execution_count": 29,
   "metadata": {},
   "outputs": [],
   "source": [
    "def get_population2(lst):\n",
    "    pdict = {}\n",
    "    try:\n",
    "        for item in lst:\n",
    "            if item in rdict:\n",
    "                item = rdict[item]\n",
    "            else:\n",
    "                pass\n",
    "            if item in countrypop.values:\n",
    "                t = countrypop.loc[countrypop['CountryName'] == item,'2019'].iloc[0]\n",
    "                p = int(t)\n",
    "                q = countrypop.loc[countrypop['CountryName'] == item, 'CountryCode'].iloc[0]\n",
    "            elif item in statepop.values:\n",
    "                t = statepop.loc[statepop['Region'] == item,'2019'].iloc[0]\n",
    "                p = int(t.replace(',',''))\n",
    "                q = statepop.loc[statepop['Region'] == item, 'Abb'].iloc[0]\n",
    "            else:\n",
    "                p = 1000000\n",
    "                q = item\n",
    "            #plist.append(p)\n",
    "            pdict[q] = p\n",
    "    except IndexError as e:\n",
    "        print(\"Error\")\n",
    "    return(pdict)"
   ]
  },
  {
   "cell_type": "markdown",
   "metadata": {},
   "source": [
    "These two little blocks just retrieves the EU population (does it always include UK?)"
   ]
  },
  {
   "cell_type": "code",
   "execution_count": 30,
   "metadata": {},
   "outputs": [
    {
     "name": "stdout",
     "output_type": "stream",
     "text": [
      "619065351\n"
     ]
    }
   ],
   "source": [
    "eupop = get_population2(eulist)       # call get_population2 function\n",
    "eusum = sum(eupop.values())           # sum all the values for total population\n",
    "print(eusum)"
   ]
  },
  {
   "cell_type": "code",
   "execution_count": 31,
   "metadata": {},
   "outputs": [],
   "source": [
    "pops = get_population2(clist)          # returns dictionary of place:population\n",
    "if 'EU' in clist:                      # look for name 'EU' in list of verified names\n",
    "    pops['EU'] = eusum                 # assign the EU pop from above to pops dictionary\n",
    "vmax = combined.max()[2::3]            # get the max values from the combined table\n",
    "latest = combined.iloc[-1,:][2::3]     # get the most recent data from the table"
   ]
  },
  {
   "cell_type": "code",
   "execution_count": 32,
   "metadata": {
    "scrolled": true
   },
   "outputs": [
    {
     "name": "stdout",
     "output_type": "stream",
     "text": [
      "7-day EU    4180.14\n",
      "7-day US    2240.71\n",
      "dtype: float64\n",
      "7-day EU    3111.00\n",
      "7-day US     974.43\n",
      "Name: 11/10/20, dtype: float64\n"
     ]
    }
   ],
   "source": [
    "print(\"{}\\n{}\".format(vmax, latest))"
   ]
  },
  {
   "cell_type": "code",
   "execution_count": 33,
   "metadata": {},
   "outputs": [],
   "source": [
    "k = 0                                                    # initialize variable k\n",
    "capl = []                                                # create empty lists\n",
    "caph = []\n",
    "for key, value in pops.items():                          # iterate over entries in population dictionary\n",
    "    cap1 = vmax[k]/value*100000                          # divide each max by 100,000 to compute rate\n",
    "    caph.append(cap1)                                    # add this value to caph = capita highest\n",
    "    cap2 = latest[k]/value*100000\n",
    "    capl.append(cap2)                                    # add this value to capl = capita latest\n",
    "    k +=1                                                # it's necessary to manually increment the counter\n",
    "    #print(\"{:<5}{:10.3}{:10.3}\".format(key,cap1,cap2))"
   ]
  },
  {
   "cell_type": "markdown",
   "metadata": {},
   "source": [
    "This block formats the dataframe to display under the plot"
   ]
  },
  {
   "cell_type": "code",
   "execution_count": 34,
   "metadata": {},
   "outputs": [],
   "source": [
    "capita = pd.DataFrame(columns = {'Place','Population','Latest 100k','Highest 100k'})\n",
    "capita['Place'] = clist\n",
    "capita['Population'] = [v for k,v in pops.items()]\n",
    "capita['Latest 100k'] = capl\n",
    "capita['Highest 100k'] = caph\n",
    "capita = capita[['Place','Population','Latest 100k','Highest 100k']]\n",
    "\n",
    "capita['Place'] = capita['Place'].map('{:>14s}'.format)\n",
    "capita['Population'] = capita['Population'].map('{:10,d}'.format)\n",
    "capita['Latest 100k'] = capita['Latest 100k'].map('{:.3f}'.format)\n",
    "capita['Highest 100k'] = capita['Highest 100k'].map('{:.3f}'.format)"
   ]
  },
  {
   "cell_type": "code",
   "execution_count": 35,
   "metadata": {
    "scrolled": false
   },
   "outputs": [
    {
     "name": "stdout",
     "output_type": "stream",
     "text": [
      "            Place   Population Latest 100k Highest 100k\n",
      "0              EU  619,065,351       0.503        0.675\n",
      "1              US  328,239,523       0.297        0.683\n"
     ]
    }
   ],
   "source": [
    "print(capita)"
   ]
  },
  {
   "cell_type": "markdown",
   "metadata": {},
   "source": [
    "## Plotting the data"
   ]
  },
  {
   "cell_type": "markdown",
   "metadata": {},
   "source": [
    "Get a start date for plotting. "
   ]
  },
  {
   "cell_type": "code",
   "execution_count": 36,
   "metadata": {},
   "outputs": [],
   "source": [
    "import datetime"
   ]
  },
  {
   "cell_type": "code",
   "execution_count": 37,
   "metadata": {},
   "outputs": [],
   "source": [
    "today = datetime.datetime.today().date()\n",
    "begin = datetime.datetime.strptime(\"01/22/20\",\"%m/%d/%y\").date()"
   ]
  },
  {
   "cell_type": "code",
   "execution_count": 38,
   "metadata": {},
   "outputs": [],
   "source": [
    "def get_start():\n",
    "    pdays = []\n",
    "    while True:\n",
    "        try:\n",
    "            start = input(\"Set a start date for plotting. Enter in form 4-6-20. \\n\"\n",
    "                          \"Should be after 1-22-20 but before today. \")\n",
    "            start = datetime.datetime.strptime(start, \"%m-%d-%y\").date()\n",
    "            if start < today and start > begin:\n",
    "                ndays = (today - start).days\n",
    "                pdays = [i for i in range(1,ndays + 1)]\n",
    "            else:\n",
    "                start = datetime.datetime.strptime(\"4-6-20\", \"%m-%d-%y\").date()\n",
    "            break\n",
    "        except ValueError as e:\n",
    "            print(\"That didn't work\")\n",
    "    return(pdays)"
   ]
  },
  {
   "cell_type": "code",
   "execution_count": 39,
   "metadata": {},
   "outputs": [
    {
     "name": "stdout",
     "output_type": "stream",
     "text": [
      "Set a start date for plotting. Enter in form 4-6-20. \n",
      "Should be after 1-22-20 but before today. 3-11-20\n"
     ]
    }
   ],
   "source": [
    "mydays = get_start()\n",
    "#print(type(mydays))\n",
    "start_date = today - datetime.timedelta(days = len(mydays))"
   ]
  },
  {
   "cell_type": "code",
   "execution_count": 40,
   "metadata": {},
   "outputs": [],
   "source": [
    "def plot_type():\n",
    "    while True:\n",
    "        try:\n",
    "            ptype = input(\"Enter 1 for 7-day avergages or 2 for cumulative values.\")\n",
    "            ptype = int(ptype)\n",
    "            if ptype == 1 or ptype == 2:                    \n",
    "                break\n",
    "            else:\n",
    "                print(\"Try again\")\n",
    "        except ValueError:\n",
    "            print(\"Error\")\n",
    "    return(2 if ptype == 2 else 0)"
   ]
  },
  {
   "cell_type": "code",
   "execution_count": 41,
   "metadata": {},
   "outputs": [
    {
     "name": "stdout",
     "output_type": "stream",
     "text": [
      "Enter 1 for 7-day avergages or 2 for cumulative values.1\n",
      "0\n"
     ]
    },
    {
     "data": {
      "image/png": "[encoded data removed]",
      "text/plain": [
       "<Figure size 432x288 with 1 Axes>"
      ]
     },
     "metadata": {
      "needs_background": "light"
     },
     "output_type": "display_data"
    }
   ],
   "source": [
    "fig, ax = plt.subplots()\n",
    "labels = []\n",
    "\n",
    "ax.get_yaxis().set_major_formatter(plt.FuncFormatter(lambda x, loc: \"{:,}\".format(int(x))))\n",
    "# I borrowed the line above from https://preinventedwheel.com/matplotlib-thousands-separator-1-step-guide/\n",
    "\n",
    "ref = plot_type()\n",
    "print(ref)\n",
    "\n",
    "xr = range(2 - ref,len(combined.columns)+1, 3)\n",
    "xr = xr[:len(clist)]\n",
    "\n",
    "for i in xr:\n",
    "    plt.plot(mydays, combined.iloc[-len(mydays):,i])\n",
    "    k = 1 if ref == 0 else 0\n",
    "    lmax = round(combined.iloc[:,i-k-1].max())\n",
    "\n",
    "    j = i if ref == 0 else i+2\n",
    "    labels.append(combined.columns[j][6:] + \": \" + \"{:,}\".format(lmax))\n",
    "\n",
    "datelist = pd.date_range(start_date, periods=len(mydays)).tolist()\n",
    "dlist = [d.strftime(\"%b %d\") for d in datelist]\n",
    "divx = len(mydays) // 7\n",
    "ax.set_xticks(mydays[0::divx])\n",
    "ax.set_xticklabels(dlist[0::divx])\n",
    "\n",
    "#plt.xlabel(\"Date\")\n",
    "#plt.xlabel(\"Days since %s\" %(datetime.datetime.strftime(start_date,'%B %d, %Y')))\n",
    "#plt.ylabel('# of daily new %s' %('deaths' if a == 2 else 'cases'))\n",
    "\n",
    "ylbl1 = ('# of daily new %s' % ('deaths' if a == 2 else 'cases'))\n",
    "ylbl2 = ('# of cumulative %s' % ('deaths' if a == 2 else 'cases'))\n",
    "plt.ylabel(ylbl1 if ref == 0 else ylbl2)\n",
    "\n",
    "#title1 = (\"7-day rolling avg. of COVID-19  %s\" %('deaths' if a == 2 else 'cases'))\n",
    "#title2 = (\"Cumulative COVID-19  %s\" %('deaths' if a == 2 else 'cases'))\n",
    "##plt.title(\"7-day rolling avg. of COVID - %s\" %('Deaths' if a == 2 else 'Cases'))\n",
    "#plt.title(title1 if ref == 0 else title2)\n",
    "\n",
    "title3 = '{:>30s}'.format(\"7-day rolling avg. of COVID-19 \")\n",
    "title4 = '{:>20s}'.format(\"Cumulative COVID-19  \")\n",
    "new_title = title3 if ref == 0 else title4\n",
    "xpos = .30 if ref==0 else .43\n",
    "plt.figtext(xpos, 0.90, new_title, fontsize='large', color='k', ha ='left')\n",
    "plt.figtext(0.73, 0.90,'{:<s}'.format('Deaths' if a == 2 else 'Cases') ,fontsize=14, \n",
    "             color=('firebrick' if a==2 else 'teal'), ha='left')\n",
    "\n",
    "# need to add code to indicate UK data excluded\n",
    "if inpy == 110 or inpy == 78:\n",
    "    plt.figtext(.425, 0.025, 'US cases don\\'t include NY', style = 'italic', color = 'slateblue')\n",
    "else:\n",
    "    pass\n",
    "\n",
    "plt.legend(labels, title = \"Max value\")\n",
    "plt.grid()\n",
    "\n",
    "mpl_table = plt.table(cellText = capita.values, rowLabels = capita.index, bbox = [.02, -.45, .99, .30], \n",
    "                      colLabels=capita.columns)\n",
    "mpl_table.auto_set_font_size(False)\n",
    "mpl_table.set_fontsize(9)\n",
    "\n",
    "box = ax.get_position()\n",
    "ax.set_position([box.x0, box.y0, box.width * 1.2, box.height])\n",
    "\n",
    "plt.show\n",
    "plt.savefig(\"plot_%s.png\" %datetime.datetime.now().strftime(\"%m%d%Y_%H%M%S\"), dpi = 600, bbox_inches = 'tight')"
   ]
  },
  {
   "cell_type": "code",
   "execution_count": 42,
   "metadata": {},
   "outputs": [],
   "source": [
    "combined.to_csv(r'export_%s.csv' %datetime.datetime.now().strftime(\"%m%d%Y_%H%M%S\"))"
   ]
  },
  {
   "cell_type": "code",
   "execution_count": 44,
   "metadata": {},
   "outputs": [
    {
     "name": "stdout",
     "output_type": "stream",
     "text": [
      "37 ['Albania' 'Austria' 'Belgium' 'Bulgaria' 'Croatia' 'Cyprus'\n",
      " 'Czech Republic' 'Denmark' 'Estonia' 'Finland' 'France' 'Germany'\n",
      " 'Greece' 'Hungary' 'Iceland' 'Ireland' 'Italy' 'Latvia' 'Liechtenstein'\n",
      " 'Lithuania' 'Luxembourg' 'Macedonia' 'Malta' 'Montenegro' 'Netherlands'\n",
      " 'Norway' 'Poland' 'Portugal' 'Romania' 'Serbia' 'Slovakia' 'Slovenia'\n",
      " 'Spain' 'Sweden' 'Switzerland' 'Turkey' 'United Kingdom']\n"
     ]
    }
   ],
   "source": [
    "print(len(eulist),eulist)"
   ]
  },
  {
   "cell_type": "code",
   "execution_count": 56,
   "metadata": {},
   "outputs": [],
   "source": [
    "not_eulist = ['Albania','Montenegro','Serbia','Turkey']\n",
    "in_eulist = eulist.tolist()\n",
    "eulist = [item for item in eulist[0] if item not in not_eulist]"
   ]
  },
  {
   "cell_type": "code",
   "execution_count": 58,
   "metadata": {},
   "outputs": [
    {
     "name": "stdout",
     "output_type": "stream",
     "text": [
      "['Austria', 'Belgium', 'Bulgaria', 'Croatia', 'Cyprus', 'Czech Republic', 'Denmark', 'Estonia', 'Finland', 'France', 'Germany', 'Greece', 'Hungary', 'Iceland', 'Ireland', 'Italy', 'Latvia', 'Liechtenstein', 'Lithuania', 'Luxembourg', 'Macedonia', 'Malta', 'Netherlands', 'Norway', 'Poland', 'Portugal', 'Romania', 'Slovakia', 'Slovenia', 'Spain', 'Sweden', 'Switzerland', 'United Kingdom'] 33\n"
     ]
    }
   ],
   "source": [
    "print(eulist, len(eulist))"
   ]
  },
  {
   "cell_type": "code",
   "execution_count": null,
   "metadata": {},
   "outputs": [],
   "source": []
  }
 ],
 "metadata": {
  "kernelspec": {
   "display_name": "Python 3",
   "language": "python",
   "name": "python3"
  },
  "language_info": {
   "codemirror_mode": {
    "name": "ipython",
    "version": 3
   },
   "file_extension": ".py",
   "mimetype": "text/x-python",
   "name": "python",
   "nbconvert_exporter": "python",
   "pygments_lexer": "ipython3",
   "version": "3.7.9"
  }
 },
 "nbformat": 4,
 "nbformat_minor": 4
}
