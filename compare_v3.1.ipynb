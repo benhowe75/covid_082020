{
 "cells": [
  {
   "cell_type": "markdown",
   "metadata": {},
   "source": [
    "### Updates\n",
    "9/22/2020\n",
    "\n",
    "- new functionality to subtract NY state data from US totals for global comparison\n",
    "- export dataframe to csv\n",
    "- export plot as png \n",
    "- coming soon:\n",
    " - import code so users can choose EU or a continent as a whole region\n",
    " - add population data to compute per capita values"
   ]
  },
  {
   "cell_type": "code",
   "execution_count": 1,
   "metadata": {},
   "outputs": [],
   "source": [
    "import pandas as pd\n",
    "import numpy as np\n",
    "import matplotlib.pyplot as plt"
   ]
  },
  {
   "cell_type": "markdown",
   "metadata": {},
   "source": [
    "The data all comes from the Github repository maintained by Johns Hopkins, https://github.com/CSSEGISandData"
   ]
  },
  {
   "cell_type": "code",
   "execution_count": 2,
   "metadata": {},
   "outputs": [],
   "source": [
    "# get the data from the Github repository\n",
    "filepathA = \"https://raw.githubusercontent.com/CSSEGISandData/COVID-19/master/csse_covid_19_data/csse_covid_19_time_series/time_series_covid19_confirmed_US.csv\"\n",
    "filepathB = \"https://raw.githubusercontent.com/CSSEGISandData/COVID-19/master/csse_covid_19_data/csse_covid_19_time_series/time_series_covid19_deaths_US.csv\"\n",
    "filepathC = \"https://raw.githubusercontent.com/CSSEGISandData/COVID-19/master/csse_covid_19_data/csse_covid_19_time_series/time_series_covid19_confirmed_global.csv\"\n",
    "filepathD = \"https://raw.githubusercontent.com/CSSEGISandData/COVID-19/master/csse_covid_19_data/csse_covid_19_time_series/time_series_covid19_deaths_global.csv\""
   ]
  },
  {
   "cell_type": "markdown",
   "metadata": {},
   "source": [
    "This block gets lists of states and countries for checking entries later."
   ]
  },
  {
   "cell_type": "code",
   "execution_count": 3,
   "metadata": {},
   "outputs": [],
   "source": [
    "states = pd.read_csv(filepathA)\n",
    "statelist = states.loc[:,\"Province_State\"].unique()\n",
    "\n",
    "countries = pd.read_csv(filepathC)\n",
    "countrylist = countries.loc[:,\"Country/Region\"].unique()"
   ]
  },
  {
   "cell_type": "markdown",
   "metadata": {},
   "source": [
    "## Definitions"
   ]
  },
  {
   "cell_type": "markdown",
   "metadata": {},
   "source": [
    "There are two primary categories, either conformed cases or deaths. Since it is unusual and unwise to compare them, users can choose on eor the other."
   ]
  },
  {
   "cell_type": "code",
   "execution_count": 4,
   "metadata": {},
   "outputs": [],
   "source": [
    "def get_choice1():\n",
    "    while True:\n",
    "        try:\n",
    "            tipar3 = input(\"Do you want cases or deaths? Enter '1' for cases or '2' for deaths. \")\n",
    "            tipar3 = int(tipar3)\n",
    "            if tipar3 == 1 or tipar3 == 2:\n",
    "                break\n",
    "            else:\n",
    "                print(\"choose only 1 for cases or 2 for deaths.\")\n",
    "        except ValueError as e:\n",
    "            print(\"Error\")\n",
    "    return(tipar3)"
   ]
  },
  {
   "cell_type": "markdown",
   "metadata": {},
   "source": [
    "This function makes sure that user choices are countries and states in the database. I don't know what was so special about this block but it took me a long time to get it to respond correctly for names not in either list."
   ]
  },
  {
   "cell_type": "markdown",
   "metadata": {},
   "source": [
    "This name block continues to give me problems. I fixed it so that US which egts changed to 'Us' is correctly read as 'US'. There is still the isuue of Georgia being both a state and a country. There are others, I'm certain, that use non-standard latin characters, things like é, œ, or ñ. I think the best way to handle these is to keep track of the exceptions and build a dictionary for those cases."
   ]
  },
  {
   "cell_type": "code",
   "execution_count": 5,
   "metadata": {},
   "outputs": [],
   "source": [
    "except_dict ={'Us':'US'}"
   ]
  },
  {
   "cell_type": "code",
   "execution_count": 6,
   "metadata": {},
   "outputs": [],
   "source": [
    "def check_name(b):\n",
    "    j = 0\n",
    "    while j < b:\n",
    "        try:\n",
    "            string = input(\"What's the place?\").strip()\n",
    "            string =' '.join(w.capitalize() for w in string.split())\n",
    "            if string == 'Us':\n",
    "                string = 'US'\n",
    "                break\n",
    "            elif string in statelist or string in countrylist:\n",
    "                j += 1\n",
    "                break\n",
    "            else:\n",
    "                print(\"Pick a better location.\")\n",
    "        except Exception as e:\n",
    "            print(\"Error\")\n",
    "    return(string)"
   ]
  },
  {
   "cell_type": "markdown",
   "metadata": {},
   "source": [
    "I had to add this function as an afterthought to figure out which database to look in for each place."
   ]
  },
  {
   "cell_type": "code",
   "execution_count": 7,
   "metadata": {},
   "outputs": [],
   "source": [
    "def get_choice2(name):\n",
    "    while True:\n",
    "        try:\n",
    "            if name in statelist:\n",
    "                choice2 = 2\n",
    "            elif name in countrylist:\n",
    "                choice2 = 1\n",
    "            else:\n",
    "                \"Something went wrong.\"\n",
    "            break\n",
    "        except ValueError as e:\n",
    "            print(\"Error\")\n",
    "    return(choice2)"
   ]
  },
  {
   "cell_type": "markdown",
   "metadata": {},
   "source": [
    "This function just gets the right filepath for the given attributes."
   ]
  },
  {
   "cell_type": "code",
   "execution_count": 8,
   "metadata": {},
   "outputs": [],
   "source": [
    "def get_data(pair): # order of (x,y) is (confirmed/deaths, country/state)\n",
    "    if pair == (1,1):\n",
    "        dtable1 = pd.read_csv(filepathC) # confirmed global\n",
    "    elif pair == (1,2):\n",
    "        dtable1 = pd.read_csv(filepathA) # confirmed US\n",
    "    elif pair == (2,1):\n",
    "        dtable1 = pd.read_csv(filepathD) # deaths global\n",
    "    else:\n",
    "        dtable1 = pd.read_csv(filepathB) # deaths US\n",
    "    return(dtable1)"
   ]
  },
  {
   "cell_type": "markdown",
   "metadata": {},
   "source": [
    "This function actually retrieves the specific subset of data for each state. Notice that the databases for deaths and confirmed cases are slightly different, deaths has one more leading column. Why?"
   ]
  },
  {
   "cell_type": "code",
   "execution_count": 9,
   "metadata": {},
   "outputs": [],
   "source": [
    "def get_state_data(string, dtable, int):\n",
    "    dtable.rename(columns={\"Province_State\":\"State\"}, inplace = True)\n",
    "    #place = string.strip()\n",
    "    place = str(string)\n",
    "    dtable2 = dtable[dtable.loc[:,'State'] == string]\n",
    "    if int == 1:\n",
    "        dtable2 = dtable2.iloc[:,11:] # for cases\n",
    "    else:\n",
    "        dtable2 = dtable2.iloc[:,12:] # for deaths\n",
    "    return(dtable2)"
   ]
  },
  {
   "cell_type": "markdown",
   "metadata": {},
   "source": [
    "Same as one above, except for countries."
   ]
  },
  {
   "cell_type": "code",
   "execution_count": 10,
   "metadata": {},
   "outputs": [],
   "source": [
    "def get_country_data(string, dtable):\n",
    "    place = string.strip()\n",
    "    #dtable2 = dtable[dtable.loc[:,\"Country/Region\"] == place]\n",
    "    dtable2 = dtable[dtable.loc[:,'Country/Region'] == place]\n",
    "    dtable2 = dtable2.iloc[:,4:]\n",
    "    return(dtable2)"
   ]
  },
  {
   "cell_type": "markdown",
   "metadata": {},
   "source": [
    "### This is the first time the user has to input anything"
   ]
  },
  {
   "cell_type": "code",
   "execution_count": 11,
   "metadata": {},
   "outputs": [
    {
     "name": "stdout",
     "output_type": "stream",
     "text": [
      "Do you want cases or deaths? Enter '1' for cases or '2' for deaths. 1\n"
     ]
    }
   ],
   "source": [
    "a = get_choice1() # get cases or deaths"
   ]
  },
  {
   "cell_type": "code",
   "execution_count": 12,
   "metadata": {},
   "outputs": [
    {
     "name": "stdout",
     "output_type": "stream",
     "text": [
      "Pick the number of places you want. 2\n",
      "What's the place?mexico\n",
      "What's the place?peru\n"
     ]
    }
   ],
   "source": [
    "clist = [] # get the list of countries\n",
    "while True:\n",
    "    try:\n",
    "        b = input(\"Pick the number of places you want. \")\n",
    "        b = int(b)\n",
    "        i = 0\n",
    "        if b > 0 and b < 6:\n",
    "            while i < b:\n",
    "                place = check_name(b)\n",
    "                clist.append(place)\n",
    "                i += 1\n",
    "                continue\n",
    "            break\n",
    "        elif b < 1:\n",
    "            print(\"Choose a positive number.\")            \n",
    "        elif b > 5:\n",
    "            print(b, \" is too many for a good comparison.\")                   \n",
    "    except ValueError as e:\n",
    "        print(\"Error\")"
   ]
  },
  {
   "cell_type": "markdown",
   "metadata": {},
   "source": [
    "This block sums the values for each place and combines it into one dataframe."
   ]
  },
  {
   "cell_type": "code",
   "execution_count": 13,
   "metadata": {},
   "outputs": [
    {
     "name": "stdout",
     "output_type": "stream",
     "text": [
      "           Mexico      Peru\n",
      "1/22/20       0.0       0.0\n",
      "1/23/20       0.0       0.0\n",
      "1/24/20       0.0       0.0\n",
      "1/25/20       0.0       0.0\n",
      "1/26/20       0.0       0.0\n",
      "...           ...       ...\n",
      "9/22/20  705263.0  768895.0\n",
      "9/23/20  710049.0  776546.0\n",
      "9/24/20  715457.0  782695.0\n",
      "9/25/20  720858.0  794584.0\n",
      "9/26/20  726431.0  794584.0\n",
      "\n",
      "[249 rows x 2 columns]\n"
     ]
    }
   ],
   "source": [
    "combined = pd.DataFrame()\n",
    "for item in clist:\n",
    "    d = item # d = place name\n",
    "    b = get_choice2(d) # b = country/state\n",
    "    c = get_data((a,b)) #a = cases/deaths\n",
    "    #print(a,b)\n",
    "    \n",
    "    if b == 1:\n",
    "        db1 = get_country_data(d,c)\n",
    "    else:\n",
    "        db1 = get_state_data(d,c,a)\n",
    "    db1.loc[d,:] = db1.sum(axis = 0)\n",
    "    db1 = db1.iloc[-1,:]\n",
    "    \n",
    "    combined = pd.concat([combined,db1], axis = 1)\n",
    "\n",
    "print(combined)"
   ]
  },
  {
   "cell_type": "markdown",
   "metadata": {},
   "source": [
    "This is a special functiononly for getting NY state data so I can subtract it from total US for visualizing purposes."
   ]
  },
  {
   "cell_type": "code",
   "execution_count": 14,
   "metadata": {},
   "outputs": [],
   "source": [
    "def get_ny():\n",
    "    temp_df = get_data((a,2))\n",
    "    temp2_df = get_state_data('New York',temp_df,a)\n",
    "    temp2_df.loc[d,:] = temp2_df.sum(axis = 0)\n",
    "    temp2_df = temp2_df.iloc[-1,:]\n",
    "    \n",
    "    return(temp2_df)"
   ]
  },
  {
   "cell_type": "markdown",
   "metadata": {},
   "source": [
    "## Now, we can generate rolling averages"
   ]
  },
  {
   "cell_type": "markdown",
   "metadata": {},
   "source": [
    "These next two blocks I recycled from an earlier program. No sense it reinventing the whell, right?"
   ]
  },
  {
   "cell_type": "code",
   "execution_count": 15,
   "metadata": {},
   "outputs": [],
   "source": [
    "N = len(combined)"
   ]
  },
  {
   "cell_type": "code",
   "execution_count": 16,
   "metadata": {},
   "outputs": [],
   "source": [
    "def daily(series):\n",
    "    daily = np.zeros(N)\n",
    "    for i in range(N-1):\n",
    "        daily[i+1] = round(series.iloc[i+1] - series.iloc[i],2)\n",
    "    return(daily)"
   ]
  },
  {
   "cell_type": "markdown",
   "metadata": {},
   "source": [
    "The function seven_day is replaced by seven_day_delta"
   ]
  },
  {
   "cell_type": "code",
   "execution_count": 17,
   "metadata": {},
   "outputs": [],
   "source": [
    "#def seven_day(series):\n",
    "#    j = 6\n",
    "#    seven_day = np.zeros(N)\n",
    "#    for i in range(N-6):       \n",
    "#        seven_day[i+6] = round((series.iloc[i]+series.iloc[i+1]+series.iloc[i+2]+series.iloc[i+3]+\n",
    "#                          series.iloc[i+4]+series.iloc[i+5]+series.iloc[i+6])/7,2)\n",
    "#    return(seven_day)"
   ]
  },
  {
   "cell_type": "code",
   "execution_count": 18,
   "metadata": {},
   "outputs": [],
   "source": [
    "def seven_day_delta(series):\n",
    "    j = 6\n",
    "    seven_day = np.zeros(N)\n",
    "    seven_day_delta = np.zeros(N)\n",
    "    for i in range(N-6):       \n",
    "        seven_day[i+6] = round((series.iloc[i]+series.iloc[i+1]+series.iloc[i+2]+series.iloc[i+3]+\n",
    "                          series.iloc[i+4]+series.iloc[i+5]+series.iloc[i+6])/7,2)\n",
    "        seven_day_delta[i+6] = seven_day[i+6]-seven_day[i+5]\n",
    "    return(seven_day_delta)"
   ]
  },
  {
   "cell_type": "markdown",
   "metadata": {},
   "source": [
    "These next two blocks get a place's two letter code for displaying better in tables and plots. \n",
    "Note: There are two Georgias - one country, one US state. Are there others?"
   ]
  },
  {
   "cell_type": "code",
   "execution_count": 19,
   "metadata": {},
   "outputs": [],
   "source": [
    "filepathF = \"https://raw.githubusercontent.com/umpirsky/country-list/master/data/en_US/country.csv\"\n",
    "filepathH = \"https://raw.githubusercontent.com/benhowe75/covid_082020/Latest/state_table.csv\""
   ]
  },
  {
   "cell_type": "code",
   "execution_count": 20,
   "metadata": {},
   "outputs": [],
   "source": [
    "countryabb = pd.read_csv(filepathF)\n",
    "stateabb = pd.read_csv(filepathH)"
   ]
  },
  {
   "cell_type": "code",
   "execution_count": 21,
   "metadata": {},
   "outputs": [],
   "source": [
    "def get_abbrev(string):\n",
    "    if string in countryabb.values:\n",
    "        abbv = countryabb.loc[countryabb['value'] == string,'id'].iloc[0]\n",
    "    elif string in stateabb.values:\n",
    "        abbv = stateabb.loc[stateabb['name'] == string,'abbreviation'].iloc[0]\n",
    "    else:\n",
    "        abbv = 'XX'\n",
    "    return(abbv)"
   ]
  },
  {
   "cell_type": "code",
   "execution_count": 22,
   "metadata": {},
   "outputs": [],
   "source": [
    "def get_abbrev2(string):\n",
    "    try:\n",
    "        if string in countryabb.values:\n",
    "            abbv = countryabb.loc[countryabb['value'] == string,'id'].iloc[0]\n",
    "        elif string in stateabb.values:\n",
    "            abbv = stateabb.loc[stateabb['name'] == string,'abbreviation'].iloc[0]\n",
    "        else:\n",
    "            abbv = 'XX'\n",
    "    except IndexError as e:\n",
    "        abbv = string\n",
    "    return(abbv)"
   ]
  },
  {
   "cell_type": "markdown",
   "metadata": {},
   "source": [
    "Block to optionally remove counts for NY state from US data."
   ]
  },
  {
   "cell_type": "code",
   "execution_count": 23,
   "metadata": {},
   "outputs": [],
   "source": [
    "def us_minus_ny():\n",
    "    ny1 = get_ny()\n",
    "    us1 = combined['US']\n",
    "    minus = us1 - ny1\n",
    "    \n",
    "    combined['US'] = minus\n",
    "    #combined.replace(to_replace=combined.loc[:,'US'], value=minus, inplace=False)\n",
    "    #return(minus)\n",
    "inpy = 90\n",
    "if 'US' in combined.columns:\n",
    "    codes = [78,110]\n",
    "    while True:\n",
    "        try:\n",
    "            inpy = input(\"Include NY? Press Y/N.\")\n",
    "            inpy = ord(inpy)\n",
    "            if inpy in codes:\n",
    "                minus_df = us_minus_ny()\n",
    "            else:\n",
    "                pass\n",
    "            break\n",
    "        except ValueError as e:\n",
    "            print(\"Error\")  "
   ]
  },
  {
   "cell_type": "markdown",
   "metadata": {},
   "source": [
    "This cell calls the two functions for daily and 7-day averages and adds them to main dataframe."
   ]
  },
  {
   "cell_type": "code",
   "execution_count": 24,
   "metadata": {},
   "outputs": [],
   "source": [
    "N = len(combined)\n",
    "step = 1\n",
    "for column in combined:\n",
    "    acol = combined.loc[:,column]\n",
    "    acol1 = daily(acol)\n",
    "    acol7 = seven_day_delta(acol)\n",
    "    \n",
    "    abb = get_abbrev2(column)\n",
    "    \n",
    "    combined.insert(step,\"Daily %s\" %abb, acol1)\n",
    "    combined.insert(step+1,\"7-day %s\" %abb ,acol7)\n",
    "    step += 3"
   ]
  },
  {
   "cell_type": "code",
   "execution_count": 25,
   "metadata": {},
   "outputs": [
    {
     "name": "stdout",
     "output_type": "stream",
     "text": [
      "           Mexico  Daily MX  7-day MX      Peru  Daily PE  7-day PE\n",
      "9/22/20  705263.0    4683.0   4110.86  768895.0       0.0   5005.00\n",
      "9/23/20  710049.0    4786.0   4159.71  776546.0    7651.0   5503.71\n",
      "9/24/20  715457.0    5408.0   4477.71  782695.0    6149.0   5470.72\n",
      "9/25/20  720858.0    5401.0   4557.72  794584.0   11889.0   6355.14\n",
      "9/26/20  726431.0    5573.0   4615.71  794584.0       0.0   5453.14\n"
     ]
    }
   ],
   "source": [
    "print(combined.tail())"
   ]
  },
  {
   "cell_type": "markdown",
   "metadata": {},
   "source": [
    "## Plotting the data"
   ]
  },
  {
   "cell_type": "markdown",
   "metadata": {},
   "source": [
    "Get a start date for plotting. "
   ]
  },
  {
   "cell_type": "code",
   "execution_count": 26,
   "metadata": {},
   "outputs": [],
   "source": [
    "import datetime"
   ]
  },
  {
   "cell_type": "code",
   "execution_count": 27,
   "metadata": {},
   "outputs": [],
   "source": [
    "today = datetime.datetime.today().date()\n",
    "begin = datetime.datetime.strptime(\"01/22/20\",\"%m/%d/%y\").date()"
   ]
  },
  {
   "cell_type": "code",
   "execution_count": 28,
   "metadata": {},
   "outputs": [],
   "source": [
    "def get_start():\n",
    "    pdays = []\n",
    "    while True:\n",
    "        try:\n",
    "            start = input(\"Set a start date for plotting. Enter in form 4-6-20. \\n\"\n",
    "                          \"Should be after 1-22-20 but before today. \")\n",
    "            start = datetime.datetime.strptime(start, \"%m-%d-%y\").date()\n",
    "            if start < today and start > begin:\n",
    "                ndays = (today - start).days\n",
    "                pdays = [i for i in range(1,ndays + 1)]\n",
    "            else:\n",
    "                start = datetime.datetime.strptime(\"4-6-20\", \"%m-%d-%y\").date()\n",
    "            break\n",
    "        except ValueError as e:\n",
    "            print(\"That didn't work\")\n",
    "    return(pdays)"
   ]
  },
  {
   "cell_type": "code",
   "execution_count": 29,
   "metadata": {},
   "outputs": [
    {
     "name": "stdout",
     "output_type": "stream",
     "text": [
      "Set a start date for plotting. Enter in form 4-6-20. \n",
      "Should be after 1-22-20 but before today. 4-27-20\n"
     ]
    }
   ],
   "source": [
    "mydays = get_start()\n",
    "#print(type(mydays))\n",
    "start_date = today - datetime.timedelta(days = len(mydays))"
   ]
  },
  {
   "cell_type": "code",
   "execution_count": 30,
   "metadata": {},
   "outputs": [],
   "source": [
    "def plot_type():\n",
    "    while True:\n",
    "        try:\n",
    "            ptype = input(\"Enter 1 for 7-day avergages or 2 for cumulative values.\")\n",
    "            ptype = int(ptype)\n",
    "            if ptype == 1 or ptype == 2:                    \n",
    "                break\n",
    "            else:\n",
    "                print(\"Try again\")\n",
    "        except ValueError:\n",
    "            print(\"Error\")\n",
    "    return(2 if ptype == 2 else 0)"
   ]
  },
  {
   "cell_type": "code",
   "execution_count": 31,
   "metadata": {},
   "outputs": [
    {
     "name": "stdout",
     "output_type": "stream",
     "text": [
      "Enter 1 for 7-day avergages or 2 for cumulative values.1\n",
      "0\n"
     ]
    },
    {
     "data": {
      "text/plain": [
       "<function matplotlib.pyplot.show(close=None, block=None)>"
      ]
     },
     "execution_count": 31,
     "metadata": {},
     "output_type": "execute_result"
    },
    {
     "data": {
      "image/png": "[encoded data removed]",
      "text/plain": [
       "<Figure size 432x288 with 1 Axes>"
      ]
     },
     "metadata": {
      "needs_background": "light"
     },
     "output_type": "display_data"
    }
   ],
   "source": [
    "fig, ax = plt.subplots()\n",
    "labels = []\n",
    "\n",
    "ax.get_yaxis().set_major_formatter(plt.FuncFormatter(lambda x, loc: \"{:,}\".format(int(x))))\n",
    "# I borrowed the line above from https://preinventedwheel.com/matplotlib-thousands-separator-1-step-guide/\n",
    "\n",
    "ref = plot_type()\n",
    "print(ref)\n",
    "\n",
    "xr = range(2 - ref,len(combined.columns)+1, 3)\n",
    "xr = xr[:len(clist)]\n",
    "\n",
    "for i in xr:\n",
    "    plt.plot(mydays, combined.iloc[-len(mydays):,i])\n",
    "    lmax = round(combined.iloc[:,i-1].max())\n",
    "    j = i if ref == 0 else i+2\n",
    "    labels.append(combined.columns[j][6:] + \": \" + \"{:,}\".format(lmax))\n",
    "\n",
    "datelist = pd.date_range(start_date, periods=len(mydays)).tolist()\n",
    "dlist = [d.strftime(\"%b %d\") for d in datelist]\n",
    "divx = len(mydays) // 7\n",
    "ax.set_xticks(mydays[0::divx])\n",
    "ax.set_xticklabels(dlist[0::divx])\n",
    "\n",
    "plt.xlabel(\"Date\")\n",
    "#plt.xlabel(\"Days since %s\" %(datetime.datetime.strftime(start_date,'%B %d, %Y')))\n",
    "#plt.ylabel('# of daily new %s' %('deaths' if a == 2 else 'cases'))\n",
    "\n",
    "ylbl1 = ('# of daily new %s' % ('deaths' if a == 2 else 'cases'))\n",
    "ylbl2 = ('# of cumulative %s' % ('deaths' if a == 2 else 'cases'))\n",
    "plt.ylabel(ylbl1 if ref == 0 else ylbl2)\n",
    "\n",
    "title1 = (\"7-day rolling avg. of COVID-19  %s\" %('deaths' if a == 2 else 'cases'))\n",
    "title2 = (\"Cumulative COVID-19  %s\" %('deaths' if a == 2 else 'cases'))\n",
    "#plt.title(\"7-day rolling avg. of COVID - %s\" %('Deaths' if a == 2 else 'Cases'))\n",
    "plt.title(title1 if ref == 0 else title2)\n",
    "\n",
    "if inpy == 110 or inpy == 78:\n",
    "    plt.figtext(.375, -.025, 'US cases don\\'t include NY', style = 'italic', color = 'teal')\n",
    "else:\n",
    "    pass\n",
    "\n",
    "plt.legend(labels, title = \"Max value\")\n",
    "plt.grid()\n",
    "\n",
    "#plt.savefig(\"plot_%s.png\" %datetime.datetime.now().strftime(\"%m%d%Y_%H%M%S\"), dpi = 600)\n",
    "\n",
    "plt.show"
   ]
  },
  {
   "cell_type": "code",
   "execution_count": 32,
   "metadata": {},
   "outputs": [],
   "source": [
    "#combined.to_csv(r'export_%s.csv' %datetime.datetime.now().strftime(\"%m%d%Y_%H%M%S\"))"
   ]
  },
  {
   "cell_type": "code",
   "execution_count": null,
   "metadata": {},
   "outputs": [],
   "source": []
  }
 ],
 "metadata": {
  "kernelspec": {
   "display_name": "Python 3",
   "language": "python",
   "name": "python3"
  },
  "language_info": {
   "codemirror_mode": {
    "name": "ipython",
    "version": 3
   },
   "file_extension": ".py",
   "mimetype": "text/x-python",
   "name": "python",
   "nbconvert_exporter": "python",
   "pygments_lexer": "ipython3",
   "version": "3.7.9"
  }
 },
 "nbformat": 4,
 "nbformat_minor": 4
}
