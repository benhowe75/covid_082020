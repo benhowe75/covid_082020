{
 "cells": [
  {
   "cell_type": "markdown",
   "metadata": {},
   "source": [
    "### Updates\n",
    "11/14/2020\n",
    "- in progress: \n",
    " - adding detailed comments to make code more legible\n",
    " - cleaning up redundant and unnecessary lines of code\n",
    " - replace confusing variables\n",
    "- coming soon:\n",
    " - add email\n",
    "- still unresolved:\n",
    " - the two Georgias ..."
   ]
  },
  {
   "cell_type": "code",
   "execution_count": 1,
   "metadata": {},
   "outputs": [],
   "source": [
    "import pandas as pd                    # using pandas dataframes is easiest method\n",
    "import numpy as np                     # numpy provides numerical function and list tools\n",
    "import matplotlib.pyplot as plt        # required for nice looking plots"
   ]
  },
  {
   "cell_type": "markdown",
   "metadata": {},
   "source": [
    "The data all comes from the Github repository maintained by Johns Hopkins, https://github.com/CSSEGISandData"
   ]
  },
  {
   "cell_type": "code",
   "execution_count": 2,
   "metadata": {},
   "outputs": [],
   "source": [
    "# get the data from the Github repository\n",
    "# the first 4 are from Johns Hopkins CSSE which are the accepted numbers\n",
    "filepathA = \"https://raw.githubusercontent.com/CSSEGISandData/COVID-19/master/csse_covid_19_data/csse_covid_19_time_series/time_series_covid19_confirmed_US.csv\"\n",
    "filepathB = \"https://raw.githubusercontent.com/CSSEGISandData/COVID-19/master/csse_covid_19_data/csse_covid_19_time_series/time_series_covid19_deaths_US.csv\"\n",
    "filepathC = \"https://raw.githubusercontent.com/CSSEGISandData/COVID-19/master/csse_covid_19_data/csse_covid_19_time_series/time_series_covid19_confirmed_global.csv\"\n",
    "filepathD = \"https://raw.githubusercontent.com/CSSEGISandData/COVID-19/master/csse_covid_19_data/csse_covid_19_time_series/time_series_covid19_deaths_global.csv\"\n",
    "filepathF = \"https://raw.githubusercontent.com/umpirsky/country-list/master/data/en_US/country.csv\"\n",
    "filepathG = \"https://raw.githubusercontent.com/benhowe75/covid_082020/Latest/country_codes_eu.csv\"\n",
    "filepathH = \"https://raw.githubusercontent.com/benhowe75/covid_082020/Latest/state_table.csv\""
   ]
  },
  {
   "cell_type": "markdown",
   "metadata": {},
   "source": [
    "This block gets lists of states and countries for checking entries later."
   ]
  },
  {
   "cell_type": "code",
   "execution_count": 3,
   "metadata": {},
   "outputs": [],
   "source": [
    "states = pd.read_csv(filepathA)\n",
    "statelist = states.loc[:,\"Province_State\"].unique()         # get list of all states for reference\n",
    "\n",
    "countries = pd.read_csv(filepathC)\n",
    "countrylist = countries.loc[:,\"Country/Region\"].unique()    # get list of all countries for reference\n",
    "\n",
    "eu = pd.read_csv(filepathG)\n",
    "eulist = eu.loc[:,'Country'].unique()                       # get list of EU countries for reference\n",
    "# eulist = eulist[eulist != ['Albania','Montenegro','Serbia','Turkey']]                 "
   ]
  },
  {
   "cell_type": "markdown",
   "metadata": {},
   "source": [
    "## Definitions"
   ]
  },
  {
   "cell_type": "markdown",
   "metadata": {},
   "source": [
    "There are two primary categories, either conformed cases or deaths. Since it is unusual and unwise to compare them, users can choose on eor the other."
   ]
  },
  {
   "cell_type": "code",
   "execution_count": 4,
   "metadata": {},
   "outputs": [],
   "source": [
    "def get_choice1():                                                      # get an integer that encodes primary value cases/deaths\n",
    "    while True:                                                         # this structure ensures only accepted values get through\n",
    "        try:\n",
    "            primary = input(\"Do you want cases or deaths?\"\n",
    "                           \"Enter '1' for cases or '2' for deaths. \")   # prompt for user input\n",
    "            primary = int(primary)                                      # convert input to integer\n",
    "            if primary == 1 or primary == 2:                              \n",
    "                break\n",
    "            else:\n",
    "                print(\"choose only 1 for cases or 2 for deaths.\")       # display error message and prompt for new value\n",
    "        except ValueError as e:\n",
    "            print(\"Error\")\n",
    "    return(primary)                                                     # return the integer value - 1=cases, 2=deaths"
   ]
  },
  {
   "cell_type": "markdown",
   "metadata": {},
   "source": [
    "This function makes sure that user choices are countries and states in the database. I don't know what was so special about this block but it took me a long time to get it to respond correctly for names not in either list."
   ]
  },
  {
   "cell_type": "markdown",
   "metadata": {},
   "source": [
    "This name block continues to give me problems. I fixed it so that US which gets changed to 'Us' is correctly read as 'US'. There is still the isuue of Georgia being both a state and a country. There are others, I'm certain, that use non-standard latin characters, things like é, œ, or ñ. I think the best way to handle these is to keep track of the exceptions and build a dictionary for those cases."
   ]
  },
  {
   "cell_type": "code",
   "execution_count": 5,
   "metadata": {},
   "outputs": [],
   "source": [
    "except_dict ={'Us':'US'}           # dictionary of exceptions - only contains US so far"
   ]
  },
  {
   "cell_type": "code",
   "execution_count": 6,
   "metadata": {},
   "outputs": [],
   "source": [
    "def check_name(numplaces):                                            # big block to make sure places entered by user are in a db\n",
    "    j = 0\n",
    "    while j < numplaces:                                              # while the counter is less than the number of places ...\n",
    "        try:\n",
    "            string = input(\"What's the place?\").strip()               # get the place name as string from user and remove any spaces\n",
    "            string =' '.join(w.capitalize() for w in string.split())  # convert string to 'proper' capitaliation\n",
    "            if string == 'Us':                                        # if statement to handle US as string\n",
    "                string = 'US'\n",
    "                break              \n",
    "            if string == 'Eu':                                        # if statement to handle EU as string\n",
    "                string = 'EU'\n",
    "                break                \n",
    "            elif string in statelist or string in countrylist:        # look in either list from above for the name\n",
    "                j += 1                                                # increment the counter\n",
    "                break\n",
    "            else:\n",
    "                print(\"Pick a better location.\")                      # if the place name isn't found prompt user for new one\n",
    "        except Exception as e:\n",
    "            print(\"Error\")\n",
    "    return(string)                                                    # return formatted string name of country or state"
   ]
  },
  {
   "cell_type": "markdown",
   "metadata": {},
   "source": [
    "I had to add this function as an afterthought to figure out which database to look in for each place."
   ]
  },
  {
   "cell_type": "code",
   "execution_count": 7,
   "metadata": {},
   "outputs": [],
   "source": [
    "def get_choice2(name):                 # this function returns an integer encoding secondary value for country/state \n",
    "    while True:\n",
    "        try:\n",
    "            if name in statelist:       # look in list of states for formatted place name\n",
    "                secondary = 2           # assign 2 if place is a US state       \n",
    "            elif name in countrylist:   # look in list of countries for formatted place name\n",
    "                secondary = 1           # assign 1 if place is a country\n",
    "            elif name == 'EU':          # handle the special case of EU\n",
    "                secondary = 1           # assign 1 if place is EU\n",
    "            else:\n",
    "                \"Something went wrong.\"\n",
    "            break\n",
    "        except ValueError as e:         # exception necessary for try loop\n",
    "            print(\"Error\")\n",
    "    return(secondary)                   # returns an integer for each place, 1=country,2=state"
   ]
  },
  {
   "cell_type": "markdown",
   "metadata": {},
   "source": [
    "This function just gets the right filepath for the given attributes."
   ]
  },
  {
   "cell_type": "code",
   "execution_count": 8,
   "metadata": {},
   "outputs": [],
   "source": [
    "def get_data(pair):                         # order of (x,y) is (confirmed/deaths, country/state)\n",
    "    if pair == (1,1):\n",
    "        dtable1 = pd.read_csv(filepathC)    # confirmed global\n",
    "    elif pair == (1,2):\n",
    "        dtable1 = pd.read_csv(filepathA)    # confirmed US\n",
    "    elif pair == (2,1):\n",
    "        dtable1 = pd.read_csv(filepathD)    # deaths global\n",
    "    else:\n",
    "        dtable1 = pd.read_csv(filepathB)    # deaths US\n",
    "    return(dtable1)"
   ]
  },
  {
   "cell_type": "markdown",
   "metadata": {},
   "source": [
    "This function actually retrieves the specific subset of data for each state. Notice that the databases for deaths and confirmed cases are slightly different, deaths has one more leading column. Why?"
   ]
  },
  {
   "cell_type": "code",
   "execution_count": 9,
   "metadata": {},
   "outputs": [],
   "source": [
    "def get_state_data(name, dtable, primary):                               # takes name of state, df and value for cases, deaths\n",
    "    dtable.rename(columns={\"Province_State\":\"State\"}, inplace = True)    # rename the column to just 'State'\n",
    "    \n",
    "    #place = str(string)\n",
    "    dtable2 = dtable[dtable.loc[:,'State'] == name]                      # get the relevant row of data for this state\n",
    "    if primary == 1:                                                     # for some reason db for cases & deaths have different shape\n",
    "        dtable2 = dtable2.iloc[:,11:]                                    # if cases drop the first 11 columns\n",
    "    else:\n",
    "        dtable2 = dtable2.iloc[:,12:]                                    # if deaths drop the first 12 columsn\n",
    "    return(dtable2)                                                      # returns a df for that state"
   ]
  },
  {
   "cell_type": "markdown",
   "metadata": {},
   "source": [
    "Same as one above, except for countries."
   ]
  },
  {
   "cell_type": "code",
   "execution_count": 10,
   "metadata": {},
   "outputs": [],
   "source": [
    "def get_country_data(name, dtable):                            # takes a place as a string and a dataframe\n",
    "    place = name.strip()                                       # remove blank spaces around place name\n",
    "    dtable2 = dtable[dtable.loc[:,'Country/Region'] == place]  # get the correct row of data from table\n",
    "    dtable2 = dtable2.iloc[:,4:]                               # remove leading columns of trivia\n",
    "    return(dtable2)                                            # returns df for that country"
   ]
  },
  {
   "cell_type": "code",
   "execution_count": 11,
   "metadata": {},
   "outputs": [],
   "source": [
    "def get_eu():                                                       # get the data for all EU countries\n",
    "    eudf = pd.DataFrame()                                           # create empty df\n",
    "    thepath = filepathC if primary == 1 else filepathD              # select the path cases or deaths db\n",
    "\n",
    "    thedf = pd.read_csv(thepath)                                    # access the correct db\n",
    "    for country in eulist:                                          # use EU list from top which can be edited as needed\n",
    "        countrydf = thedf.loc[thedf['Country/Region'] == country]   # find the row for that country\n",
    "        countrydf = countrydf.iloc[:,4:]                            # drop the leading columns\n",
    "        countrydf.loc[country,:] = countrydf.sum(axis = 0)          # sum all the enetries by column\n",
    "        countrydf = countrydf.iloc[-1,:]                            # drop all except the sum row\n",
    "        eudf = pd.concat([eudf,countrydf], axis = 1)                # add each country to the growing df as row\n",
    "    eudf = eudf.transpose()                                         # transpose the df so it matches the others\n",
    "    eutotal = eudf.sum(axis=0)                                      # finally sum each date and store in new df\n",
    "    eutotal = pd.DataFrame(eutotal, columns = ['EU'])               # rename the column for plotting purposes\n",
    "\n",
    "    return(eutotal)"
   ]
  },
  {
   "cell_type": "markdown",
   "metadata": {},
   "source": [
    "### This is the first time the user has to input anything"
   ]
  },
  {
   "cell_type": "code",
   "execution_count": 12,
   "metadata": {},
   "outputs": [
    {
     "name": "stdin",
     "output_type": "stream",
     "text": [
      "Do you want cases or deaths?Enter '1' for cases or '2' for deaths.  1\n"
     ]
    }
   ],
   "source": [
    "primary = get_choice1()                  # get cases or deaths"
   ]
  },
  {
   "cell_type": "code",
   "execution_count": 13,
   "metadata": {},
   "outputs": [
    {
     "name": "stdin",
     "output_type": "stream",
     "text": [
      "Pick the number of places you want.  5\n",
      "What's the place? california\n",
      "What's the place? texas\n",
      "What's the place? florida\n",
      "What's the place? new york\n",
      "What's the place? pennsylvania\n"
     ]
    }
   ],
   "source": [
    "placelist = []                                                           # create empty list of places\n",
    "while True:\n",
    "    try:                                                                 # try loop so user enters appropraite value\n",
    "        numplaces = input(\"Pick the number of places you want. \")        # prompt for input\n",
    "        numplaces = int(numplaces)                                       # store value for number of places to compare\n",
    "        \n",
    "        i = 0                                                            # set a counter\n",
    "        if numplaces > 0 and numplaces < 6:                              # limit value of numplaces to 1-5\n",
    "            while i < numplaces:                                         # loop runs chosen number of times\n",
    "                place = check_name(numplaces)                            # call check_name function each time\n",
    "                placelist.append(place)                                  # add formatted name to the empty list\n",
    "                i += 1                                                   # increment the counter\n",
    "                continue                                                 # continue = skip to the end and run again\n",
    "            break                                                        # break = stops loop\n",
    "        elif numplaces < 1:                                              # if input value is too low\n",
    "            print(\"Choose a positive number.\")            \n",
    "        elif numplaces > 5:                                              # if input choice is too high\n",
    "            print(numplaces, \" is too many for a good comparison.\")                   \n",
    "    except ValueError as e:                                              # necessary exception for try loop\n",
    "        print(\"Error\")"
   ]
  },
  {
   "cell_type": "markdown",
   "metadata": {},
   "source": [
    "This block sums the values for each place and combines it into one dataframe."
   ]
  },
  {
   "cell_type": "code",
   "execution_count": 14,
   "metadata": {},
   "outputs": [
    {
     "name": "stdout",
     "output_type": "stream",
     "text": [
      "         California  Texas  Florida  New York  Pennsylvania\n",
      "1/22/20         0.0    0.0      0.0       0.0           0.0\n",
      "1/23/20         0.0    0.0      0.0       0.0           0.0\n",
      "1/24/20         0.0    0.0      0.0       0.0           0.0\n",
      "1/25/20         0.0    0.0      0.0       0.0           0.0\n",
      "1/26/20         2.0    0.0      0.0       0.0           0.0\n"
     ]
    }
   ],
   "source": [
    "combined = pd.DataFrame()                                   # create empty dataframe to hold combined data for all places\n",
    "for item in placelist:                                      # iterate over strings in placelist\n",
    "    place     = item                                        # place = place name from list entered by user\n",
    "    secondary = get_choice2(place)                          # secondary = 1 is country, 2 is state\n",
    "    primarydf = get_data((primary,secondary))               # finds the right db depending on primary & seocndary values\n",
    "    \n",
    "    if item == 'EU':                                        # if one of the names is EU\n",
    "        db1 = get_eu()                                      # run the get_eu fucntion\n",
    "    else:\n",
    "        if secondary == 1:                                  # otherwise for country do these\n",
    "            db1 = get_country_data(place,primarydf)         # call get_country function for that list item\n",
    "            db1.loc[place,:] = db1.sum(axis = 0)            # sum the values for each date\n",
    "            db1 = db1.iloc[-1,:]                            # just keep the summed row\n",
    "        else:\n",
    "            db1 = get_state_data(place,primarydf,primary)   # else for state do this\n",
    "            db1.loc[place,:] = db1.sum(axis = 0)            # sum values for each date\n",
    "            db1 = db1.iloc[-1,:]                            # keep only total row\n",
    "    \n",
    "    combined = pd.concat([combined,db1], axis = 1)          # add the latest df to the combined df\n",
    "\n",
    "print(combined.head())                                      # display the first 5 rows of the combined df"
   ]
  },
  {
   "cell_type": "markdown",
   "metadata": {},
   "source": [
    "This is a special functiononly for getting NY state data so I can subtract it from total US for visualizing purposes for a look at the rest of the United States."
   ]
  },
  {
   "cell_type": "markdown",
   "metadata": {},
   "source": [
    "Block to optionally remove counts for NY state from US data."
   ]
  },
  {
   "cell_type": "code",
   "execution_count": 15,
   "metadata": {},
   "outputs": [],
   "source": [
    "def get_ny():                                              # function that just gets NY\n",
    "    temp_df = get_data((primary,2))                        # primary value is used everywhere\n",
    "    temp2_df = get_state_data('New York',temp_df,primary)  # run the get_state function\n",
    "    temp2_df.loc[place,:] = temp2_df.sum(axis = 0)         # perform the usual summation\n",
    "    temp2_df = temp2_df.iloc[-1,:]                         # remove all but the last row\n",
    "    \n",
    "    return(temp2_df)"
   ]
  },
  {
   "cell_type": "code",
   "execution_count": 16,
   "metadata": {},
   "outputs": [],
   "source": [
    "def us_minus_ny():\n",
    "    ny1 = get_ny()                                     # call the get_ny function\n",
    "    us1 = combined['US']                               # access the column for US data\n",
    "    minus = us1 - ny1                                  # new column = US values minus NY values\n",
    "    \n",
    "    combined['US'] = minus                             # replace the old values with the new ones\n",
    "\n",
    "inpy = 90                                              # initialize the variable 'inpy' (I'm not certain this is needed)\n",
    "if 'US' in combined.columns:                           # look for a column named 'US' in combined df\n",
    "    codes = [78,110]                                   # list of ASCII values to check for 78='N' and 110='n'\n",
    "    while True:\n",
    "        try:\n",
    "            inpy = input(\"Include NY? Press Y/N.\")     # get user input\n",
    "            inpy = ord(inpy)                           # convert character input to integer\n",
    "            if inpy in codes:                          # look for integer in codes list\n",
    "                minus_df = us_minus_ny()               # if it's there run the minus_ny function\n",
    "            else:\n",
    "                pass                                   # if not, Pass\n",
    "            break\n",
    "        except ValueError as e:\n",
    "            print(\"Error\")  "
   ]
  },
  {
   "cell_type": "markdown",
   "metadata": {},
   "source": [
    "Block to optionally remove counts for NY state from US data."
   ]
  },
  {
   "cell_type": "code",
   "execution_count": 17,
   "metadata": {},
   "outputs": [],
   "source": [
    "def get_uk():                                               # function just to get UK data\n",
    "    temp_df = get_data((primary,1))                         # use primary value from before\n",
    "    temp2_df = get_country_data('United Kingdom',temp_df)   # run get_country function\n",
    "    temp2_df.loc[place,:] = temp2_df.sum(axis = 0)          # sum the columns\n",
    "    temp2_df = temp2_df.iloc[-1,:]                          # drop all but last row\n",
    "    \n",
    "    return(temp2_df)"
   ]
  },
  {
   "cell_type": "code",
   "execution_count": 18,
   "metadata": {},
   "outputs": [],
   "source": [
    "def us_minus_uk():\n",
    "    uk1 = get_uk()                                  # call the get_uk function returns a df\n",
    "    eu1 = combined['EU']                            # access just the column for EU totals\n",
    "    minus = eu1 - uk1                               # subtract the UK values from EU totals\n",
    "    \n",
    "    combined['EU'] = minus                          # replace the old EU totals with the new values less the UK data\n",
    "\n",
    "inpy = 90                                           # initialize variable 'inpy' with value 90 (letter Z)\n",
    "if 'EU' in combined.columns:                        # look for column labelled 'EU'\n",
    "    codes = [78,110]                                # 78 and 110 are 'N' and 'n'\n",
    "    while True:                                     \n",
    "        try:\n",
    "            inpy = input(\"Include UK? Press Y/N.\")  # get user input here, this should only happen if EU is in combined\n",
    "            inpy = ord(inpy)                        # convert character input to ASCII integer\n",
    "            if inpy in codes:                       # look for the input in the codes\n",
    "                minus_df = us_minus_uk()            # if input matches 'N' or 'n' call minus_uk fucntion\n",
    "            else:\n",
    "                pass                                # if input doesn't match then Pass\n",
    "            break                                   # leave the loop\n",
    "        except ValueError as e:                     # obligatory error message required to make loop run\n",
    "            print(\"Error\")  "
   ]
  },
  {
   "cell_type": "markdown",
   "metadata": {},
   "source": [
    "## Now, we can generate rolling averages"
   ]
  },
  {
   "cell_type": "markdown",
   "metadata": {},
   "source": [
    "These next two blocks I recycled from an earlier program. No sense it reinventing the wheel, right?"
   ]
  },
  {
   "cell_type": "code",
   "execution_count": 19,
   "metadata": {},
   "outputs": [],
   "source": [
    "N = len(combined)           # get the value for total numer rows in the combined df"
   ]
  },
  {
   "cell_type": "code",
   "execution_count": 20,
   "metadata": {},
   "outputs": [],
   "source": [
    "def daily(series):                                               # create column of daily increase numbers\n",
    "    daily = np.zeros(N)                                          # an empty list of zeros\n",
    "    for i in range(N-1):\n",
    "        daily[i+1] = round(series.iloc[i+1] - series.iloc[i],2)  # tomorrow count - today count and round to hundredths\n",
    "    return(daily)                                                # return the list"
   ]
  },
  {
   "cell_type": "code",
   "execution_count": 21,
   "metadata": {},
   "outputs": [],
   "source": [
    "def seven_day_delta(series):                                                         # generate list of 7-day averages\n",
    "\n",
    "    seven_day = np.zeros(N)                                                          # a list of zeros to fill with averages\n",
    "    seven_day_delta = np.zeros(N)                                                    # this is the actual daily increase\n",
    "    for i in range(N-6):                                                               \n",
    "        seven_day[i+6] = round((series.iloc[i]+series.iloc[i+1]+series.iloc[i+2]\n",
    "                                +series.iloc[i+3]+series.iloc[i+4]+series.iloc[i+5]\n",
    "                                +series.iloc[i+6])/7,2)                              # calculate the average starting on day 7\n",
    "        seven_day_delta[i+6] = seven_day[i+6]-seven_day[i+5]                         # the 7-day increase is today-yesterday\n",
    "    return(seven_day_delta)                                                          # return the list"
   ]
  },
  {
   "cell_type": "markdown",
   "metadata": {},
   "source": [
    "These next two blocks get a place's two letter code for displaying better in tables and plots. \n",
    "Note: There are two Georgias - one country, one US state. Are there others?"
   ]
  },
  {
   "cell_type": "code",
   "execution_count": 22,
   "metadata": {},
   "outputs": [],
   "source": [
    "countryabb = pd.read_csv(filepathF)                  # access the databases of places and abbreviations \n",
    "stateabb = pd.read_csv(filepathH)"
   ]
  },
  {
   "cell_type": "code",
   "execution_count": 23,
   "metadata": {},
   "outputs": [],
   "source": [
    "def get_abbrev(place):                                                            # define a function to get the abbreviations\n",
    "    try:\n",
    "        if place in countryabb.values:                                             # look for place in country abbreviations df\n",
    "            abbv = countryabb.loc[countryabb['value'] == place,'id'].iloc[0]       # select the matching abbreviation\n",
    "        elif place in stateabb.values:                                             # look in states abbrevaitions df\n",
    "            abbv = stateabb.loc[stateabb['name'] == place,'abbreviation'].iloc[0]  # select the corresponding abbreviation\n",
    "        elif place == 'EU':\n",
    "            abbv = 'EU'                                                            # special case if place is 'EU'\n",
    "        else:\n",
    "            abbv = 'XX'                                                            # if place doesn't match anything assign 'XX'\n",
    "    except IndexError as e:\n",
    "        abbv = place                                                               # if some error arises just use the place name\n",
    "    return(abbv)"
   ]
  },
  {
   "cell_type": "markdown",
   "metadata": {},
   "source": [
    "This cell calls the two functions for daily and 7-day averages and adds them to main dataframe."
   ]
  },
  {
   "cell_type": "code",
   "execution_count": 24,
   "metadata": {},
   "outputs": [],
   "source": [
    "step = 1                                               # initialize a counter\n",
    "for column in combined:                                # loop over the columns of the combined df\n",
    "    acol = combined.loc[:,column]                      # select columns one by one\n",
    "    acol1 = daily(acol)                                # call daily function\n",
    "    acol7 = seven_day_delta(acol)                      # call seven_day_delta function\n",
    "    \n",
    "    abb = get_abbrev(column)                           # get the corresponding abbreviations to use as column names\n",
    "    \n",
    "    combined.insert(step,\"Daily %s\" %abb, acol1)       # insert the new columns after the column that was used to generate them\n",
    "    combined.insert(step+1,\"7-day %s\" %abb ,acol7)\n",
    "    step += 3                                          # increment step by 3 (column + daily + 7-day)"
   ]
  },
  {
   "cell_type": "code",
   "execution_count": 25,
   "metadata": {},
   "outputs": [
    {
     "name": "stdout",
     "output_type": "stream",
     "text": [
      "          California  Daily CA  7-day CA      Texas  Daily TX  7-day TX  \\\n",
      "11/11/20    995575.0    6143.0   6379.29  1022336.0   11972.0   8932.14   \n",
      "11/12/20   1004116.0    8541.0   6751.71  1031363.0    9027.0   8839.00   \n",
      "11/13/20   1013566.0    9450.0   7193.58  1043116.0   11753.0   9413.43   \n",
      "11/14/20   1023067.0    9501.0   7672.14  1052229.0    9113.0   9595.43   \n",
      "11/15/20   1032095.0    9028.0   8483.14  1059753.0    7524.0   9831.86   \n",
      "\n",
      "           Florida  Daily FL  7-day FL  New York  Daily NY  7-day NY  \\\n",
      "11/11/20  858012.0    5838.0   5269.86  540965.0    4820.0   3592.86   \n",
      "11/12/20  863619.0    5607.0   5177.00  545762.0    4797.0   3850.00   \n",
      "11/13/20  870552.0    6933.0   5418.14  551163.0    5401.0   4163.14   \n",
      "11/14/20  875096.0    4544.0   5431.28  556551.0    5388.0   4420.43   \n",
      "11/15/20  885201.0   10105.0   5900.58  560200.0    3649.0   4452.00   \n",
      "\n",
      "          Pennsylvania  Daily PA  7-day PA  \n",
      "11/11/20      248015.0    3969.0   3590.28  \n",
      "11/12/20      254155.0    6140.0   4065.29  \n",
      "11/13/20      259988.0    5833.0   4377.43  \n",
      "11/14/20      264222.0    4234.0   4532.71  \n",
      "11/15/20      268696.0    4474.0   4811.72  \n"
     ]
    }
   ],
   "source": [
    "print(combined.tail())   # just to make sure stuff is still working"
   ]
  },
  {
   "cell_type": "code",
   "execution_count": 26,
   "metadata": {},
   "outputs": [
    {
     "name": "stdout",
     "output_type": "stream",
     "text": [
      "California      1032095.00\n",
      "Daily CA          15117.00\n",
      "7-day CA           9560.86\n",
      "Texas           1059753.00\n",
      "Daily TX          21771.00\n",
      "7-day TX          10572.14\n",
      "Florida          885201.00\n",
      "Daily FL          15300.00\n",
      "7-day FL          11870.00\n",
      "New York         560200.00\n",
      "Daily NY          11434.00\n",
      "7-day NY           9908.71\n",
      "Pennsylvania     268696.00\n",
      "Daily PA           6140.00\n",
      "7-day PA           4811.72\n",
      "dtype: float64\n"
     ]
    }
   ],
   "source": [
    "print(combined.max())"
   ]
  },
  {
   "cell_type": "markdown",
   "metadata": {},
   "source": [
    "## Population and per capita data"
   ]
  },
  {
   "cell_type": "markdown",
   "metadata": {},
   "source": [
    "Use the population data to compute per capita cases (cases per thousand people)"
   ]
  },
  {
   "cell_type": "code",
   "execution_count": 27,
   "metadata": {},
   "outputs": [],
   "source": [
    "# load the population databases into dataframes\n",
    "# this brings the list of databses available to 9\n",
    "filepathM = \"https://raw.githubusercontent.com/benhowe75/covid_082020/master/country_populations_2019.csv\"\n",
    "filepathN = \"https://raw.githubusercontent.com/benhowe75/covid_082020/master/state_populations_2019.csv\"\n",
    "countrypop = pd.read_csv(filepathM)\n",
    "statepop = pd.read_csv(filepathN)"
   ]
  },
  {
   "cell_type": "markdown",
   "metadata": {},
   "source": [
    "This is my dictionary so the country names from different databases can match up."
   ]
  },
  {
   "cell_type": "code",
   "execution_count": 28,
   "metadata": {},
   "outputs": [],
   "source": [
    "rdict ={'US':'United States', 'Russia':'Russian Federation','Kyrgyzstan':'Kyrgyz Republic','Laos':'Lao PDR'}"
   ]
  },
  {
   "cell_type": "code",
   "execution_count": 29,
   "metadata": {},
   "outputs": [],
   "source": [
    "def get_population(lst):                                                                      # function to get formatted populations\n",
    "    pdict = {}                                                                                # empty dictionary\n",
    "    try:\n",
    "        for item in lst:                                                                      # the list is list of place names\n",
    "            if item in rdict:                                                                 # chexk for US & Russia\n",
    "                item = rdict[item]\n",
    "            else:\n",
    "                pass                                                                          # skip\n",
    "            if item in countrypop.values:                                                     # look in country pop df\n",
    "                t = countrypop.loc[countrypop['CountryName'] == item,'2019'].iloc[0]          # population value\n",
    "                p = int(t)                                                                    # convert to integer\n",
    "                q = countrypop.loc[countrypop['CountryName'] == item, 'CountryCode'].iloc[0]  # retrieve the counrty code from df\n",
    "            elif item in statepop.values:                                                     # look in state pop df\n",
    "                t = statepop.loc[statepop['Region'] == item,'2019'].iloc[0]                   # retrieve population value\n",
    "                p = int(t.replace(',',''))                                                    # remove commas as convert to int\n",
    "                q = statepop.loc[statepop['Region'] == item, 'Abb'].iloc[0]                   # get the corresponding code\n",
    "            else:\n",
    "                p = 1000000                                                                   # if not in list assign a value\n",
    "                q = item\n",
    "            #plist.append(p)\n",
    "            pdict[q] = p                                                                      # add each code:population to dict\n",
    "    except IndexError as e:\n",
    "        print(\"Error\")\n",
    "    return(pdict)                                                                             # return the population dictionary"
   ]
  },
  {
   "cell_type": "markdown",
   "metadata": {},
   "source": [
    "These two little blocks just retrieves the EU population (does it always include UK?)"
   ]
  },
  {
   "cell_type": "code",
   "execution_count": 30,
   "metadata": {},
   "outputs": [
    {
     "name": "stdout",
     "output_type": "stream",
     "text": [
      "619065351\n"
     ]
    }
   ],
   "source": [
    "eupop = get_population(eulist)       # call get_population2 function\n",
    "eusum = sum(eupop.values())          # sum all the values for total population\n",
    "print(eusum)"
   ]
  },
  {
   "cell_type": "code",
   "execution_count": 31,
   "metadata": {},
   "outputs": [],
   "source": [
    "pops = get_population(placelist)       # returns dictionary of place:population\n",
    "if 'EU' in placelist:                  # look for name 'EU' in list of verified names\n",
    "    pops['EU'] = eusum                 # assign the EU pop from above to pops dictionary\n",
    "vmax = combined.max()[2::3]            # get the max values from the combined table\n",
    "latest = combined.iloc[-1,:][2::3]     # get the most recent data from the table"
   ]
  },
  {
   "cell_type": "raw",
   "metadata": {},
   "source": [
    "print(\"{}\\n{}\".format(vmax, latest))     # check the population data"
   ]
  },
  {
   "cell_type": "code",
   "execution_count": 32,
   "metadata": {},
   "outputs": [],
   "source": [
    "k = 0                                                    # initialize variable k\n",
    "capl = []                                                # create empty lists\n",
    "caph = []\n",
    "for key, value in pops.items():                          # iterate over entries in population dictionary\n",
    "    cap1 = vmax[k]/value*100000                          # divide each max by 100,000 to compute rate\n",
    "    caph.append(cap1)                                    # add this value to caph = capita highest\n",
    "    cap2 = latest[k]/value*100000\n",
    "    capl.append(cap2)                                    # add this value to capl = capita latest\n",
    "    k +=1                                                # it's necessary to manually increment the counter\n",
    "    #print(\"{:<5}{:10.3}{:10.3}\".format(key,cap1,cap2))"
   ]
  },
  {
   "cell_type": "markdown",
   "metadata": {},
   "source": [
    "This block formats the dataframe to display under the plot"
   ]
  },
  {
   "cell_type": "code",
   "execution_count": 33,
   "metadata": {},
   "outputs": [],
   "source": [
    "capita = pd.DataFrame(columns = {'Place','Population','Latest 100k','Highest 100k'})   # set up a dataframe with columns\n",
    "capita['Place'] = placelist                                                            # fill the place column with the full names\n",
    "capita['Population'] = [v for k,v in pops.items()]                                     # the values from the pop dictionary\n",
    "capita['Latest 100k'] = capl                                                           # capl and caph values from cell above\n",
    "capita['Highest 100k'] = caph\n",
    "capita = capita[['Place','Population','Latest 100k','Highest 100k']]                   # assemble the df\n",
    "\n",
    "capita['Place'] = capita['Place'].map('{:>14s}'.format)                                # format the data for nice display\n",
    "capita['Population'] = capita['Population'].map('{:10,d}'.format)\n",
    "capita['Latest 100k'] = capita['Latest 100k'].map('{:.3f}'.format)\n",
    "capita['Highest 100k'] = capita['Highest 100k'].map('{:.3f}'.format)"
   ]
  },
  {
   "cell_type": "code",
   "execution_count": 34,
   "metadata": {},
   "outputs": [
    {
     "name": "stdout",
     "output_type": "stream",
     "text": [
      "            Place  Population Latest 100k Highest 100k\n",
      "0      California  39,512,223      21.470       24.197\n",
      "1           Texas  28,995,881      33.908       36.461\n",
      "2         Florida  21,477,737      27.473       55.267\n",
      "3        New York  19,453,561      22.885       50.935\n",
      "4    Pennsylvania  12,801,989      37.586       37.586\n"
     ]
    }
   ],
   "source": [
    "print(capita)"
   ]
  },
  {
   "cell_type": "markdown",
   "metadata": {},
   "source": [
    "## Plotting the data"
   ]
  },
  {
   "cell_type": "markdown",
   "metadata": {},
   "source": [
    "Get a start date for plotting. "
   ]
  },
  {
   "cell_type": "code",
   "execution_count": 35,
   "metadata": {},
   "outputs": [],
   "source": [
    "import datetime                                                       # need package to handle dates"
   ]
  },
  {
   "cell_type": "code",
   "execution_count": 36,
   "metadata": {},
   "outputs": [],
   "source": [
    "today = datetime.datetime.today().date()                              # easy to get today's date (just date, no time)\n",
    "begin = datetime.datetime.strptime(\"01/22/20\",\"%m/%d/%y\").date()      # format an earliest date (just date, no time)"
   ]
  },
  {
   "cell_type": "code",
   "execution_count": 37,
   "metadata": {},
   "outputs": [],
   "source": [
    "def start_here():                                                               # simplified start date function\n",
    "    while True:\n",
    "        try:                                                                    # try loop because dates are tricky\n",
    "            start = input(\"Choose start date. \\n\"\n",
    "                         \"Enter in format mm-dd-yy\")                            # user inputs start date\n",
    "            start = datetime.datetime.strptime(start, \"%m-%d-%y\").date()        # try to format the date string\n",
    "            if start < today and start > begin:                                 # if date is between today and begin date\n",
    "                pass                                                            # then good, skip to end\n",
    "            else:\n",
    "                start = datetime.datetime.strptime(\"4-6-20\", \"%m-%d-%y\").date() # else use 4-6-20 (my birthday)\n",
    "            break                                                               # terminate loop\n",
    "        except ValueError as e:                                                 # need exception here\n",
    "            print(\"Try again.\")\n",
    "    return(start)"
   ]
  },
  {
   "cell_type": "code",
   "execution_count": 38,
   "metadata": {},
   "outputs": [
    {
     "name": "stdin",
     "output_type": "stream",
     "text": [
      "Choose start date. \n",
      "Enter in format mm-dd-yy 8-16-20\n"
     ]
    }
   ],
   "source": [
    "start_date = start_here()                          # call start date function\n",
    "ndays = (today - start_date).days                  # compute number of elapsed days\n",
    "mydays = [i for i in range(1,ndays + 1)]           # sequence of integers ndays long "
   ]
  },
  {
   "cell_type": "code",
   "execution_count": 39,
   "metadata": {},
   "outputs": [],
   "source": [
    "def plot_type():                                                                      # function sets plotting parameters\n",
    "    while True:                                                                       # typical while loop to validate input\n",
    "        try:\n",
    "            ptype = input(\"Enter 1 for 7-day avergages or 2 for cumulative values.\")  # get user input\n",
    "            ptype = int(ptype)                                                        # try to convert input to integer\n",
    "            if ptype == 1 or ptype == 2:                                              # if value is 1 or 2 then end loop\n",
    "                break\n",
    "            else:\n",
    "                print(\"Try again\")                                                    # if some other number prompt again\n",
    "        except ValueError:                                                            # if not a number raise exception\n",
    "            print(\"Error\")\n",
    "    return(2 if ptype == 2 else 0)                                                    # return either 2 or 0"
   ]
  },
  {
   "cell_type": "markdown",
   "metadata": {},
   "source": [
    "## Build the plot"
   ]
  },
  {
   "cell_type": "code",
   "execution_count": 40,
   "metadata": {},
   "outputs": [
    {
     "name": "stdin",
     "output_type": "stream",
     "text": [
      "Enter 1 for 7-day avergages or 2 for cumulative values. 1\n",
      "Save plot? Y/N y\n"
     ]
    },
    {
     "data": {
      "image/png": "[encoded data removed]",
      "text/plain": [
       "<Figure size 432x288 with 1 Axes>"
      ]
     },
     "metadata": {
      "needs_background": "light"
     },
     "output_type": "display_data"
    }
   ],
   "source": [
    "fig, ax = plt.subplots()                                                 # standard declaration to begin plot sequence\n",
    "labels = []                                                              # empty container for labels\n",
    "\n",
    "ax.get_yaxis().set_major_formatter(plt.FuncFormatter(lambda x, loc: \"{:,}\".format(int(x))))\n",
    "# I borrowed the line above from https://preinventedwheel.com/matplotlib-thousands-separator-1-step-guide/\n",
    "\n",
    "ref = plot_type()                                                        # call plot_type function\n",
    "\n",
    "xr = range(2 - ref,len(combined.columns)+1, 3)                           # xr is a range to use in list iterations\n",
    "xr = xr[:len(placelist)]                                                 # what is this for??\n",
    "\n",
    "for i in xr:                                                             \n",
    "    plt.plot(mydays, combined.iloc[-len(mydays):,i])                     # create plots x=mydays, y=row values for each i\n",
    "    k = 1 if ref == 0 else 0                                             # set this parameter to get correct max value for legend\n",
    "    lmax = round(combined.iloc[:,i-k-1].max())\n",
    "\n",
    "    j = i if ref == 0 else i+2                                           # set parameter for generating lables\n",
    "    labels.append(combined.columns[j][6:] + \": \" + \"{:,}\".format(lmax))  # generate formatted labels\n",
    "\n",
    "datelist = pd.date_range(start_date, periods=len(mydays)).tolist()       # get list of dates for x-axis\n",
    "dlist = [d.strftime(\"%b %d\") for d in datelist]                          # format the datelist\n",
    "divx = len(mydays) // 7                                                  # break the list into 7 equal parts\n",
    "ax.set_xticks(mydays[0::divx])                                           # create x-ticks\n",
    "ax.set_xticklabels(dlist[0::divx])                                       # create x-tick labels from dlist\n",
    "\n",
    "ylbl1 = ('# of daily new %s' % ('deaths' if primary == 2 else 'cases'))  # label for y-axis\n",
    "ylbl2 = ('# of cumulative %s' % ('deaths' if primary == 2 else 'cases'))\n",
    "plt.ylabel(ylbl1 if ref == 0 else ylbl2)\n",
    "\n",
    "title3 = '{:>30s}'.format(\"7-day rolling avg. of COVID-19 \")                          # different title for each plot type\n",
    "title4 = '{:>20s}'.format(\"Cumulative COVID-19  \")\n",
    "new_title = title3 if ref == 0 else title4                                             \n",
    "xpos = .30 if ref==0 else .43                                                         # set position of title\n",
    "plt.figtext(xpos, 0.90, new_title, fontsize='large', color='k', ha ='left')           # place and format tile\n",
    "plt.figtext(0.73, 0.90,'{:<s}'.format('Deaths' if primary == 2 else 'Cases'),\n",
    "            fontsize=14, color=('firebrick' if primary == 2 else 'teal'), ha='left')  # place and format descriptive text\n",
    "\n",
    "# need to add code to indicate UK data excluded\n",
    "if inpy == 110 or inpy == 78:\n",
    "    plt.figtext(.425, 0.025, 'US cases don\\'t include NY', style = 'italic', color = 'slateblue')\n",
    "else:\n",
    "    pass\n",
    "\n",
    "plt.legend(labels, title = \"Max value\")                                               # set legends\n",
    "plt.grid()                                                                            # turn grid on (I always do this)\n",
    "\n",
    "mpl_table = plt.table(cellText = capita.values, rowLabels = capita.index,             # put population table below plot\n",
    "                      bbox = [.02, -.45, .99, .30], colLabels=capita.columns)         # the bbox sets the size of the table\n",
    "mpl_table.auto_set_font_size(False)\n",
    "mpl_table.set_fontsize(9)                                                             # manually set font size in table\n",
    "\n",
    "box = ax.get_position()                                                               # this needed to make it all display properly\n",
    "ax.set_position([box.x0, box.y0, box.width * 1.2, box.height])\n",
    "\n",
    "plt.show                                                                              # finally show all the plot elements\n",
    "\n",
    "savepng = input(\"Save plot? Y/N\")\n",
    "if ord(savepng) == 89 or ord(savepng) == 121:\n",
    "    plt.savefig(\"plot_%s.png\" %datetime.datetime.now().strftime(\"%m%d%Y_%H%M%S\"), dpi = 600, bbox_inches = 'tight')\n",
    "else:\n",
    "    pass"
   ]
  },
  {
   "cell_type": "markdown",
   "metadata": {},
   "source": [
    "### Allow user to export data table and plot."
   ]
  },
  {
   "cell_type": "code",
   "execution_count": 41,
   "metadata": {},
   "outputs": [
    {
     "name": "stdin",
     "output_type": "stream",
     "text": [
      "Do you want to save the table? Press Y/N. y\n"
     ]
    },
    {
     "name": "stdout",
     "output_type": "stream",
     "text": [
      "Thank you for using my program. \n",
      "If you see errors or have suggestions email me at benhowe75@outlook.com.\n"
     ]
    }
   ],
   "source": [
    "while True:\n",
    "    try:\n",
    "        output = input(\"Do you want to save the table? Press Y/N.\")\n",
    "        output = ord(output)\n",
    "        if output == 89 or output ==121:\n",
    "            #plt.savefig(\"plot_%s.png\" %datetime.datetime.now().strftime(\"%m%d%Y_%H%M%S\"), dpi = 600, bbox_inches = 'tight')\n",
    "            combined.to_csv(r'export_%s.csv' %datetime.datetime.now().strftime(\"%m%d%Y_%H%M%S\"))\n",
    "            break\n",
    "        else:\n",
    "            break\n",
    "    except ValueError as e:\n",
    "        print(\"error\")\n",
    "print(\"Thank you for using my program. \\n\"\n",
    "    \"If you see errors or have suggestions email me at benhowe75@outlook.com.\")"
   ]
  },
  {
   "cell_type": "raw",
   "metadata": {},
   "source": [
    "# Import smtplib for the actual sending function\n",
    "import smtplib\n",
    "\n",
    "# Import the email modules we'll need\n",
    "from email.message import EmailMessage\n",
    "\n",
    "# Open the plain text file whose name is in textfile for reading.\n",
    "with open(\"textfile.txt\") as fp:\n",
    "    # Create a text/plain message\n",
    "    msg = EmailMessage()\n",
    "    msg.set_content(fp.read())\n",
    "\n",
    "# me == the sender's email address\n",
    "# you == the recipient's email address\n",
    "msg['Subject'] = f'The contents of \"textfile.txt\"'\n",
    "msg['From'] = 'physixben@outlook.com'\n",
    "msg['To'] = 'benhowe75@outlook.com'\n",
    "\n",
    "# Send the message via our own SMTP server.\n",
    "s = smtplib.SMTP('localhost')\n",
    "s.send_message(msg)\n",
    "s.quit()"
   ]
  },
  {
   "cell_type": "code",
   "execution_count": null,
   "metadata": {},
   "outputs": [],
   "source": []
  }
 ],
 "metadata": {
  "kernelspec": {
   "display_name": "Python 3",
   "language": "python",
   "name": "python3"
  },
  "language_info": {
   "codemirror_mode": {
    "name": "ipython",
    "version": 3
   },
   "file_extension": ".py",
   "mimetype": "text/x-python",
   "name": "python",
   "nbconvert_exporter": "python",
   "pygments_lexer": "ipython3",
   "version": "3.7.9"
  }
 },
 "nbformat": 4,
 "nbformat_minor": 4
}
